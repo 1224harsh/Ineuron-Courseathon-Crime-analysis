{
 "cells": [
  {
   "cell_type": "code",
   "execution_count": 133,
   "id": "0d27e1e6",
   "metadata": {},
   "outputs": [
    {
     "data": {
      "text/html": [
       "        <script type=\"text/javascript\">\n",
       "        window.PlotlyConfig = {MathJaxConfig: 'local'};\n",
       "        if (window.MathJax) {MathJax.Hub.Config({SVG: {font: \"STIX-Web\"}});}\n",
       "        if (typeof require !== 'undefined') {\n",
       "        require.undef(\"plotly\");\n",
       "        requirejs.config({\n",
       "            paths: {\n",
       "                'plotly': ['https://cdn.plot.ly/plotly-2.9.0.min']\n",
       "            }\n",
       "        });\n",
       "        require(['plotly'], function(Plotly) {\n",
       "            window._Plotly = Plotly;\n",
       "        });\n",
       "        }\n",
       "        </script>\n",
       "        "
      ]
     },
     "metadata": {},
     "output_type": "display_data"
    }
   ],
   "source": [
    "import pandas as pd\n",
    "import numpy as np\n",
    "import matplotlib.pyplot as plt\n",
    "import seaborn as sns\n",
    "\n",
    "\n",
    "import plotly.express as px\n",
    "from plotly.offline import init_notebook_mode, plot, iplot\n",
    "import plotly as py\n",
    "init_notebook_mode(connected=True) \n",
    "import plotly.graph_objs as go\n",
    "import plotly.graph_objs as go\n",
    "import plotly.tools as tls\n",
    "#import missingno as msno"
   ]
  },
  {
   "cell_type": "code",
   "execution_count": 134,
   "id": "2353b607",
   "metadata": {},
   "outputs": [
    {
     "name": "stderr",
     "output_type": "stream",
     "text": [
      "C:\\Users\\Solv-IT\\anaconda3\\lib\\site-packages\\IPython\\core\\interactiveshell.py:3444: DtypeWarning:\n",
      "\n",
      "Columns (2) have mixed types.Specify dtype option on import or set low_memory=False.\n",
      "\n"
     ]
    }
   ],
   "source": [
    "#Importing the dataset.\n",
    "crime=pd.read_csv('Legacy_Baton_Rouge_Crime_Incidents.csv')"
   ]
  },
  {
   "cell_type": "code",
   "execution_count": 135,
   "id": "7a9be098",
   "metadata": {},
   "outputs": [
    {
     "data": {
      "text/html": [
       "<div>\n",
       "<style scoped>\n",
       "    .dataframe tbody tr th:only-of-type {\n",
       "        vertical-align: middle;\n",
       "    }\n",
       "\n",
       "    .dataframe tbody tr th {\n",
       "        vertical-align: top;\n",
       "    }\n",
       "\n",
       "    .dataframe thead th {\n",
       "        text-align: right;\n",
       "    }\n",
       "</style>\n",
       "<table border=\"1\" class=\"dataframe\">\n",
       "  <thead>\n",
       "    <tr style=\"text-align: right;\">\n",
       "      <th></th>\n",
       "      <th>FILE NUMBER</th>\n",
       "      <th>OFFENSE DATE</th>\n",
       "      <th>OFFENSE TIME</th>\n",
       "      <th>CRIME</th>\n",
       "      <th>COMMITTED</th>\n",
       "      <th>OFFENSE</th>\n",
       "      <th>OFFENSE DESCRIPTION</th>\n",
       "      <th>FULL ADDRESS</th>\n",
       "      <th>ADDRESS NUMBER</th>\n",
       "      <th>STREET DIRECTION</th>\n",
       "      <th>...</th>\n",
       "      <th>CITY</th>\n",
       "      <th>STATE</th>\n",
       "      <th>ZIP CODE</th>\n",
       "      <th>DISTRICT</th>\n",
       "      <th>ZONE</th>\n",
       "      <th>SUBZONE</th>\n",
       "      <th>COMPLETE DISTRICT</th>\n",
       "      <th>COUNCIL DISTRICT</th>\n",
       "      <th>CRIME PREVENTION DISTRICT</th>\n",
       "      <th>GEOLOCATION</th>\n",
       "    </tr>\n",
       "  </thead>\n",
       "  <tbody>\n",
       "    <tr>\n",
       "      <th>0</th>\n",
       "      <td>NaN</td>\n",
       "      <td>10/01/2013</td>\n",
       "      <td>1200</td>\n",
       "      <td>JUVENILE</td>\n",
       "      <td>COMMITTED</td>\n",
       "      <td>14:80</td>\n",
       "      <td>CARNAL KNOW OF JUV</td>\n",
       "      <td>NaN</td>\n",
       "      <td>NaN</td>\n",
       "      <td>NaN</td>\n",
       "      <td>...</td>\n",
       "      <td>NaN</td>\n",
       "      <td>NaN</td>\n",
       "      <td>70805.0</td>\n",
       "      <td>1</td>\n",
       "      <td>F</td>\n",
       "      <td>2</td>\n",
       "      <td>1F2</td>\n",
       "      <td>7.0</td>\n",
       "      <td>NONE</td>\n",
       "      <td>NaN</td>\n",
       "    </tr>\n",
       "    <tr>\n",
       "      <th>1</th>\n",
       "      <td>NaN</td>\n",
       "      <td>11/05/2019</td>\n",
       "      <td>0038</td>\n",
       "      <td>JUVENILE</td>\n",
       "      <td>ATTEMPTED</td>\n",
       "      <td>14:80</td>\n",
       "      <td>CARNAL KNOW OF JUV</td>\n",
       "      <td>NaN</td>\n",
       "      <td>NaN</td>\n",
       "      <td>NaN</td>\n",
       "      <td>...</td>\n",
       "      <td>NaN</td>\n",
       "      <td>NaN</td>\n",
       "      <td>70805.0</td>\n",
       "      <td>4</td>\n",
       "      <td>E</td>\n",
       "      <td>2</td>\n",
       "      <td>4E2</td>\n",
       "      <td>5.0</td>\n",
       "      <td>NONE</td>\n",
       "      <td>NaN</td>\n",
       "    </tr>\n",
       "    <tr>\n",
       "      <th>2</th>\n",
       "      <td>NaN</td>\n",
       "      <td>12/05/2012</td>\n",
       "      <td>1800</td>\n",
       "      <td>JUVENILE</td>\n",
       "      <td>COMMITTED</td>\n",
       "      <td>14:80</td>\n",
       "      <td>CARNAL KNOW OF JUV</td>\n",
       "      <td>NaN</td>\n",
       "      <td>NaN</td>\n",
       "      <td>NaN</td>\n",
       "      <td>...</td>\n",
       "      <td>NaN</td>\n",
       "      <td>NaN</td>\n",
       "      <td>70802.0</td>\n",
       "      <td>1</td>\n",
       "      <td>B</td>\n",
       "      <td>1</td>\n",
       "      <td>1B1</td>\n",
       "      <td>7.0</td>\n",
       "      <td>NONE</td>\n",
       "      <td>NaN</td>\n",
       "    </tr>\n",
       "    <tr>\n",
       "      <th>3</th>\n",
       "      <td>NaN</td>\n",
       "      <td>05/28/2016</td>\n",
       "      <td>2100</td>\n",
       "      <td>JUVENILE</td>\n",
       "      <td>COMMITTED</td>\n",
       "      <td>14:92</td>\n",
       "      <td>CONT DEL OF A JUV</td>\n",
       "      <td>NaN</td>\n",
       "      <td>NaN</td>\n",
       "      <td>NaN</td>\n",
       "      <td>...</td>\n",
       "      <td>NaN</td>\n",
       "      <td>NaN</td>\n",
       "      <td>70802.0</td>\n",
       "      <td>2</td>\n",
       "      <td>D</td>\n",
       "      <td>3</td>\n",
       "      <td>2D3</td>\n",
       "      <td>10.0</td>\n",
       "      <td>NONE</td>\n",
       "      <td>NaN</td>\n",
       "    </tr>\n",
       "    <tr>\n",
       "      <th>4</th>\n",
       "      <td>NaN</td>\n",
       "      <td>07/10/2014</td>\n",
       "      <td>0030</td>\n",
       "      <td>JUVENILE</td>\n",
       "      <td>COMMITTED</td>\n",
       "      <td>14:93.3</td>\n",
       "      <td>CRUELTY TO INFIRM</td>\n",
       "      <td>NaN</td>\n",
       "      <td>NaN</td>\n",
       "      <td>NaN</td>\n",
       "      <td>...</td>\n",
       "      <td>NaN</td>\n",
       "      <td>NaN</td>\n",
       "      <td>70805.0</td>\n",
       "      <td>1</td>\n",
       "      <td>B</td>\n",
       "      <td>2</td>\n",
       "      <td>1B2</td>\n",
       "      <td>7.0</td>\n",
       "      <td>NONE</td>\n",
       "      <td>NaN</td>\n",
       "    </tr>\n",
       "  </tbody>\n",
       "</table>\n",
       "<p>5 rows × 22 columns</p>\n",
       "</div>"
      ],
      "text/plain": [
       "   FILE NUMBER OFFENSE DATE OFFENSE TIME     CRIME  COMMITTED  OFFENSE  \\\n",
       "0          NaN   10/01/2013         1200  JUVENILE  COMMITTED    14:80   \n",
       "1          NaN   11/05/2019         0038  JUVENILE  ATTEMPTED    14:80   \n",
       "2          NaN   12/05/2012         1800  JUVENILE  COMMITTED    14:80   \n",
       "3          NaN   05/28/2016         2100  JUVENILE  COMMITTED    14:92   \n",
       "4          NaN   07/10/2014         0030  JUVENILE  COMMITTED  14:93.3   \n",
       "\n",
       "  OFFENSE DESCRIPTION FULL ADDRESS  ADDRESS NUMBER STREET DIRECTION  ... CITY  \\\n",
       "0  CARNAL KNOW OF JUV          NaN             NaN              NaN  ...  NaN   \n",
       "1  CARNAL KNOW OF JUV          NaN             NaN              NaN  ...  NaN   \n",
       "2  CARNAL KNOW OF JUV          NaN             NaN              NaN  ...  NaN   \n",
       "3   CONT DEL OF A JUV          NaN             NaN              NaN  ...  NaN   \n",
       "4   CRUELTY TO INFIRM          NaN             NaN              NaN  ...  NaN   \n",
       "\n",
       "  STATE ZIP CODE DISTRICT  ZONE SUBZONE COMPLETE DISTRICT COUNCIL DISTRICT  \\\n",
       "0   NaN  70805.0        1     F       2               1F2              7.0   \n",
       "1   NaN  70805.0        4     E       2               4E2              5.0   \n",
       "2   NaN  70802.0        1     B       1               1B1              7.0   \n",
       "3   NaN  70802.0        2     D       3               2D3             10.0   \n",
       "4   NaN  70805.0        1     B       2               1B2              7.0   \n",
       "\n",
       "  CRIME PREVENTION DISTRICT  GEOLOCATION  \n",
       "0                      NONE          NaN  \n",
       "1                      NONE          NaN  \n",
       "2                      NONE          NaN  \n",
       "3                      NONE          NaN  \n",
       "4                      NONE          NaN  \n",
       "\n",
       "[5 rows x 22 columns]"
      ]
     },
     "execution_count": 135,
     "metadata": {},
     "output_type": "execute_result"
    }
   ],
   "source": [
    "crime.head()"
   ]
  },
  {
   "cell_type": "code",
   "execution_count": 136,
   "id": "a0c36642",
   "metadata": {},
   "outputs": [
    {
     "data": {
      "text/plain": [
       "(490578, 22)"
      ]
     },
     "execution_count": 136,
     "metadata": {},
     "output_type": "execute_result"
    }
   ],
   "source": [
    "#Checking the shape of the data.\n",
    "crime.shape"
   ]
  },
  {
   "cell_type": "code",
   "execution_count": 137,
   "id": "f717a071",
   "metadata": {},
   "outputs": [
    {
     "name": "stdout",
     "output_type": "stream",
     "text": [
      "<class 'pandas.core.frame.DataFrame'>\n",
      "RangeIndex: 490578 entries, 0 to 490577\n",
      "Data columns (total 22 columns):\n",
      " #   Column                     Non-Null Count   Dtype  \n",
      "---  ------                     --------------   -----  \n",
      " 0   FILE NUMBER                483265 non-null  float64\n",
      " 1   OFFENSE DATE               490578 non-null  object \n",
      " 2   OFFENSE TIME               490578 non-null  object \n",
      " 3   CRIME                      490578 non-null  object \n",
      " 4   COMMITTED                  490578 non-null  object \n",
      " 5   OFFENSE                    490578 non-null  object \n",
      " 6   OFFENSE DESCRIPTION        490578 non-null  object \n",
      " 7   FULL ADDRESS               483265 non-null  object \n",
      " 8   ADDRESS NUMBER             482448 non-null  float64\n",
      " 9   STREET DIRECTION           80244 non-null   object \n",
      " 10  STREET NAME                483265 non-null  object \n",
      " 11  STREET TYPE                466665 non-null  object \n",
      " 12  CITY                       483265 non-null  object \n",
      " 13  STATE                      483265 non-null  object \n",
      " 14  ZIP CODE                   487531 non-null  float64\n",
      " 15  DISTRICT                   467456 non-null  object \n",
      " 16  ZONE                       467456 non-null  object \n",
      " 17  SUBZONE                    467456 non-null  object \n",
      " 18  COMPLETE DISTRICT          467456 non-null  object \n",
      " 19  COUNCIL DISTRICT           487263 non-null  float64\n",
      " 20  CRIME PREVENTION DISTRICT  487273 non-null  object \n",
      " 21  GEOLOCATION                483265 non-null  object \n",
      "dtypes: float64(4), object(18)\n",
      "memory usage: 82.3+ MB\n"
     ]
    }
   ],
   "source": [
    "#Lets check the Dtype of the columns.\n",
    "crime.info()"
   ]
  },
  {
   "cell_type": "markdown",
   "id": "e73078e5",
   "metadata": {},
   "source": [
    "Types of columns:\n",
    "    object = 18,\n",
    "    float64 = 4"
   ]
  },
  {
   "cell_type": "code",
   "execution_count": 138,
   "id": "e238d6ec",
   "metadata": {},
   "outputs": [
    {
     "name": "stdout",
     "output_type": "stream",
     "text": [
      "FILE NUMBER                    7313\n",
      "OFFENSE DATE                      0\n",
      "OFFENSE TIME                      0\n",
      "CRIME                             0\n",
      "COMMITTED                         0\n",
      "OFFENSE                           0\n",
      "OFFENSE DESCRIPTION               0\n",
      "FULL ADDRESS                   7313\n",
      "ADDRESS NUMBER                 8130\n",
      "STREET DIRECTION             410334\n",
      "STREET NAME                    7313\n",
      "STREET TYPE                   23913\n",
      "CITY                           7313\n",
      "STATE                          7313\n",
      "ZIP CODE                       3047\n",
      "DISTRICT                      23122\n",
      "ZONE                          23122\n",
      "SUBZONE                       23122\n",
      "COMPLETE DISTRICT             23122\n",
      "COUNCIL DISTRICT               3315\n",
      "CRIME PREVENTION DISTRICT      3305\n",
      "GEOLOCATION                    7313\n",
      "dtype: int64\n",
      "\n",
      "FILE NUMBER                   1.49\n",
      "OFFENSE DATE                  0.00\n",
      "OFFENSE TIME                  0.00\n",
      "CRIME                         0.00\n",
      "COMMITTED                     0.00\n",
      "OFFENSE                       0.00\n",
      "OFFENSE DESCRIPTION           0.00\n",
      "FULL ADDRESS                  1.49\n",
      "ADDRESS NUMBER                1.66\n",
      "STREET DIRECTION             83.64\n",
      "STREET NAME                   1.49\n",
      "STREET TYPE                   4.87\n",
      "CITY                          1.49\n",
      "STATE                         1.49\n",
      "ZIP CODE                      0.62\n",
      "DISTRICT                      4.71\n",
      "ZONE                          4.71\n",
      "SUBZONE                       4.71\n",
      "COMPLETE DISTRICT             4.71\n",
      "COUNCIL DISTRICT              0.68\n",
      "CRIME PREVENTION DISTRICT     0.67\n",
      "GEOLOCATION                   1.49\n",
      "dtype: float64\n"
     ]
    }
   ],
   "source": [
    "#Lets check the null values and the percentage of null values missing in the Data.\n",
    "print(crime.isnull().sum())\n",
    "print('''''''''''''''''''''''')\n",
    "print(round((crime.isnull().sum()/len(crime)*100),2))"
   ]
  },
  {
   "cell_type": "code",
   "execution_count": 139,
   "id": "6311feed",
   "metadata": {},
   "outputs": [
    {
     "data": {
      "application/vnd.plotly.v1+json": {
       "config": {
        "plotlyServerURL": "https://plot.ly"
       },
       "data": [
        {
         "alignmentgroup": "True",
         "cliponaxis": false,
         "hovertemplate": "variable=0<br>index=%{x}<br>value=%{y}<extra></extra>",
         "legendgroup": "0",
         "marker": {
          "color": "#636efa",
          "pattern": {
           "shape": ""
          }
         },
         "name": "0",
         "offsetgroup": "0",
         "orientation": "v",
         "showlegend": true,
         "textangle": 0,
         "textfont": {
          "size": 12
         },
         "textposition": "outside",
         "texttemplate": "%{y:.2s}",
         "type": "bar",
         "x": [
          "FILE NUMBER",
          "OFFENSE DATE",
          "OFFENSE TIME",
          "CRIME",
          "COMMITTED",
          "OFFENSE",
          "OFFENSE DESCRIPTION",
          "FULL ADDRESS",
          "ADDRESS NUMBER",
          "STREET DIRECTION",
          "STREET NAME",
          "STREET TYPE",
          "CITY",
          "STATE",
          "ZIP CODE",
          "DISTRICT",
          "ZONE",
          "SUBZONE",
          "COMPLETE DISTRICT",
          "COUNCIL DISTRICT",
          "CRIME PREVENTION DISTRICT",
          "GEOLOCATION"
         ],
         "xaxis": "x",
         "y": [
          7313,
          0,
          0,
          0,
          0,
          0,
          0,
          7313,
          8130,
          410334,
          7313,
          23913,
          7313,
          7313,
          3047,
          23122,
          23122,
          23122,
          23122,
          3315,
          3305,
          7313
         ],
         "yaxis": "y"
        }
       ],
       "layout": {
        "barmode": "relative",
        "height": 700,
        "legend": {
         "title": {
          "text": "variable"
         },
         "tracegroupgap": 0
        },
        "template": {
         "data": {
          "bar": [
           {
            "error_x": {
             "color": "#2a3f5f"
            },
            "error_y": {
             "color": "#2a3f5f"
            },
            "marker": {
             "line": {
              "color": "#E5ECF6",
              "width": 0.5
             },
             "pattern": {
              "fillmode": "overlay",
              "size": 10,
              "solidity": 0.2
             }
            },
            "type": "bar"
           }
          ],
          "barpolar": [
           {
            "marker": {
             "line": {
              "color": "#E5ECF6",
              "width": 0.5
             },
             "pattern": {
              "fillmode": "overlay",
              "size": 10,
              "solidity": 0.2
             }
            },
            "type": "barpolar"
           }
          ],
          "carpet": [
           {
            "aaxis": {
             "endlinecolor": "#2a3f5f",
             "gridcolor": "white",
             "linecolor": "white",
             "minorgridcolor": "white",
             "startlinecolor": "#2a3f5f"
            },
            "baxis": {
             "endlinecolor": "#2a3f5f",
             "gridcolor": "white",
             "linecolor": "white",
             "minorgridcolor": "white",
             "startlinecolor": "#2a3f5f"
            },
            "type": "carpet"
           }
          ],
          "choropleth": [
           {
            "colorbar": {
             "outlinewidth": 0,
             "ticks": ""
            },
            "type": "choropleth"
           }
          ],
          "contour": [
           {
            "colorbar": {
             "outlinewidth": 0,
             "ticks": ""
            },
            "colorscale": [
             [
              0,
              "#0d0887"
             ],
             [
              0.1111111111111111,
              "#46039f"
             ],
             [
              0.2222222222222222,
              "#7201a8"
             ],
             [
              0.3333333333333333,
              "#9c179e"
             ],
             [
              0.4444444444444444,
              "#bd3786"
             ],
             [
              0.5555555555555556,
              "#d8576b"
             ],
             [
              0.6666666666666666,
              "#ed7953"
             ],
             [
              0.7777777777777778,
              "#fb9f3a"
             ],
             [
              0.8888888888888888,
              "#fdca26"
             ],
             [
              1,
              "#f0f921"
             ]
            ],
            "type": "contour"
           }
          ],
          "contourcarpet": [
           {
            "colorbar": {
             "outlinewidth": 0,
             "ticks": ""
            },
            "type": "contourcarpet"
           }
          ],
          "heatmap": [
           {
            "colorbar": {
             "outlinewidth": 0,
             "ticks": ""
            },
            "colorscale": [
             [
              0,
              "#0d0887"
             ],
             [
              0.1111111111111111,
              "#46039f"
             ],
             [
              0.2222222222222222,
              "#7201a8"
             ],
             [
              0.3333333333333333,
              "#9c179e"
             ],
             [
              0.4444444444444444,
              "#bd3786"
             ],
             [
              0.5555555555555556,
              "#d8576b"
             ],
             [
              0.6666666666666666,
              "#ed7953"
             ],
             [
              0.7777777777777778,
              "#fb9f3a"
             ],
             [
              0.8888888888888888,
              "#fdca26"
             ],
             [
              1,
              "#f0f921"
             ]
            ],
            "type": "heatmap"
           }
          ],
          "heatmapgl": [
           {
            "colorbar": {
             "outlinewidth": 0,
             "ticks": ""
            },
            "colorscale": [
             [
              0,
              "#0d0887"
             ],
             [
              0.1111111111111111,
              "#46039f"
             ],
             [
              0.2222222222222222,
              "#7201a8"
             ],
             [
              0.3333333333333333,
              "#9c179e"
             ],
             [
              0.4444444444444444,
              "#bd3786"
             ],
             [
              0.5555555555555556,
              "#d8576b"
             ],
             [
              0.6666666666666666,
              "#ed7953"
             ],
             [
              0.7777777777777778,
              "#fb9f3a"
             ],
             [
              0.8888888888888888,
              "#fdca26"
             ],
             [
              1,
              "#f0f921"
             ]
            ],
            "type": "heatmapgl"
           }
          ],
          "histogram": [
           {
            "marker": {
             "pattern": {
              "fillmode": "overlay",
              "size": 10,
              "solidity": 0.2
             }
            },
            "type": "histogram"
           }
          ],
          "histogram2d": [
           {
            "colorbar": {
             "outlinewidth": 0,
             "ticks": ""
            },
            "colorscale": [
             [
              0,
              "#0d0887"
             ],
             [
              0.1111111111111111,
              "#46039f"
             ],
             [
              0.2222222222222222,
              "#7201a8"
             ],
             [
              0.3333333333333333,
              "#9c179e"
             ],
             [
              0.4444444444444444,
              "#bd3786"
             ],
             [
              0.5555555555555556,
              "#d8576b"
             ],
             [
              0.6666666666666666,
              "#ed7953"
             ],
             [
              0.7777777777777778,
              "#fb9f3a"
             ],
             [
              0.8888888888888888,
              "#fdca26"
             ],
             [
              1,
              "#f0f921"
             ]
            ],
            "type": "histogram2d"
           }
          ],
          "histogram2dcontour": [
           {
            "colorbar": {
             "outlinewidth": 0,
             "ticks": ""
            },
            "colorscale": [
             [
              0,
              "#0d0887"
             ],
             [
              0.1111111111111111,
              "#46039f"
             ],
             [
              0.2222222222222222,
              "#7201a8"
             ],
             [
              0.3333333333333333,
              "#9c179e"
             ],
             [
              0.4444444444444444,
              "#bd3786"
             ],
             [
              0.5555555555555556,
              "#d8576b"
             ],
             [
              0.6666666666666666,
              "#ed7953"
             ],
             [
              0.7777777777777778,
              "#fb9f3a"
             ],
             [
              0.8888888888888888,
              "#fdca26"
             ],
             [
              1,
              "#f0f921"
             ]
            ],
            "type": "histogram2dcontour"
           }
          ],
          "mesh3d": [
           {
            "colorbar": {
             "outlinewidth": 0,
             "ticks": ""
            },
            "type": "mesh3d"
           }
          ],
          "parcoords": [
           {
            "line": {
             "colorbar": {
              "outlinewidth": 0,
              "ticks": ""
             }
            },
            "type": "parcoords"
           }
          ],
          "pie": [
           {
            "automargin": true,
            "type": "pie"
           }
          ],
          "scatter": [
           {
            "marker": {
             "colorbar": {
              "outlinewidth": 0,
              "ticks": ""
             }
            },
            "type": "scatter"
           }
          ],
          "scatter3d": [
           {
            "line": {
             "colorbar": {
              "outlinewidth": 0,
              "ticks": ""
             }
            },
            "marker": {
             "colorbar": {
              "outlinewidth": 0,
              "ticks": ""
             }
            },
            "type": "scatter3d"
           }
          ],
          "scattercarpet": [
           {
            "marker": {
             "colorbar": {
              "outlinewidth": 0,
              "ticks": ""
             }
            },
            "type": "scattercarpet"
           }
          ],
          "scattergeo": [
           {
            "marker": {
             "colorbar": {
              "outlinewidth": 0,
              "ticks": ""
             }
            },
            "type": "scattergeo"
           }
          ],
          "scattergl": [
           {
            "marker": {
             "colorbar": {
              "outlinewidth": 0,
              "ticks": ""
             }
            },
            "type": "scattergl"
           }
          ],
          "scattermapbox": [
           {
            "marker": {
             "colorbar": {
              "outlinewidth": 0,
              "ticks": ""
             }
            },
            "type": "scattermapbox"
           }
          ],
          "scatterpolar": [
           {
            "marker": {
             "colorbar": {
              "outlinewidth": 0,
              "ticks": ""
             }
            },
            "type": "scatterpolar"
           }
          ],
          "scatterpolargl": [
           {
            "marker": {
             "colorbar": {
              "outlinewidth": 0,
              "ticks": ""
             }
            },
            "type": "scatterpolargl"
           }
          ],
          "scatterternary": [
           {
            "marker": {
             "colorbar": {
              "outlinewidth": 0,
              "ticks": ""
             }
            },
            "type": "scatterternary"
           }
          ],
          "surface": [
           {
            "colorbar": {
             "outlinewidth": 0,
             "ticks": ""
            },
            "colorscale": [
             [
              0,
              "#0d0887"
             ],
             [
              0.1111111111111111,
              "#46039f"
             ],
             [
              0.2222222222222222,
              "#7201a8"
             ],
             [
              0.3333333333333333,
              "#9c179e"
             ],
             [
              0.4444444444444444,
              "#bd3786"
             ],
             [
              0.5555555555555556,
              "#d8576b"
             ],
             [
              0.6666666666666666,
              "#ed7953"
             ],
             [
              0.7777777777777778,
              "#fb9f3a"
             ],
             [
              0.8888888888888888,
              "#fdca26"
             ],
             [
              1,
              "#f0f921"
             ]
            ],
            "type": "surface"
           }
          ],
          "table": [
           {
            "cells": {
             "fill": {
              "color": "#EBF0F8"
             },
             "line": {
              "color": "white"
             }
            },
            "header": {
             "fill": {
              "color": "#C8D4E3"
             },
             "line": {
              "color": "white"
             }
            },
            "type": "table"
           }
          ]
         },
         "layout": {
          "annotationdefaults": {
           "arrowcolor": "#2a3f5f",
           "arrowhead": 0,
           "arrowwidth": 1
          },
          "autotypenumbers": "strict",
          "coloraxis": {
           "colorbar": {
            "outlinewidth": 0,
            "ticks": ""
           }
          },
          "colorscale": {
           "diverging": [
            [
             0,
             "#8e0152"
            ],
            [
             0.1,
             "#c51b7d"
            ],
            [
             0.2,
             "#de77ae"
            ],
            [
             0.3,
             "#f1b6da"
            ],
            [
             0.4,
             "#fde0ef"
            ],
            [
             0.5,
             "#f7f7f7"
            ],
            [
             0.6,
             "#e6f5d0"
            ],
            [
             0.7,
             "#b8e186"
            ],
            [
             0.8,
             "#7fbc41"
            ],
            [
             0.9,
             "#4d9221"
            ],
            [
             1,
             "#276419"
            ]
           ],
           "sequential": [
            [
             0,
             "#0d0887"
            ],
            [
             0.1111111111111111,
             "#46039f"
            ],
            [
             0.2222222222222222,
             "#7201a8"
            ],
            [
             0.3333333333333333,
             "#9c179e"
            ],
            [
             0.4444444444444444,
             "#bd3786"
            ],
            [
             0.5555555555555556,
             "#d8576b"
            ],
            [
             0.6666666666666666,
             "#ed7953"
            ],
            [
             0.7777777777777778,
             "#fb9f3a"
            ],
            [
             0.8888888888888888,
             "#fdca26"
            ],
            [
             1,
             "#f0f921"
            ]
           ],
           "sequentialminus": [
            [
             0,
             "#0d0887"
            ],
            [
             0.1111111111111111,
             "#46039f"
            ],
            [
             0.2222222222222222,
             "#7201a8"
            ],
            [
             0.3333333333333333,
             "#9c179e"
            ],
            [
             0.4444444444444444,
             "#bd3786"
            ],
            [
             0.5555555555555556,
             "#d8576b"
            ],
            [
             0.6666666666666666,
             "#ed7953"
            ],
            [
             0.7777777777777778,
             "#fb9f3a"
            ],
            [
             0.8888888888888888,
             "#fdca26"
            ],
            [
             1,
             "#f0f921"
            ]
           ]
          },
          "colorway": [
           "#636efa",
           "#EF553B",
           "#00cc96",
           "#ab63fa",
           "#FFA15A",
           "#19d3f3",
           "#FF6692",
           "#B6E880",
           "#FF97FF",
           "#FECB52"
          ],
          "font": {
           "color": "#2a3f5f"
          },
          "geo": {
           "bgcolor": "white",
           "lakecolor": "white",
           "landcolor": "#E5ECF6",
           "showlakes": true,
           "showland": true,
           "subunitcolor": "white"
          },
          "hoverlabel": {
           "align": "left"
          },
          "hovermode": "closest",
          "mapbox": {
           "style": "light"
          },
          "paper_bgcolor": "white",
          "plot_bgcolor": "#E5ECF6",
          "polar": {
           "angularaxis": {
            "gridcolor": "white",
            "linecolor": "white",
            "ticks": ""
           },
           "bgcolor": "#E5ECF6",
           "radialaxis": {
            "gridcolor": "white",
            "linecolor": "white",
            "ticks": ""
           }
          },
          "scene": {
           "xaxis": {
            "backgroundcolor": "#E5ECF6",
            "gridcolor": "white",
            "gridwidth": 2,
            "linecolor": "white",
            "showbackground": true,
            "ticks": "",
            "zerolinecolor": "white"
           },
           "yaxis": {
            "backgroundcolor": "#E5ECF6",
            "gridcolor": "white",
            "gridwidth": 2,
            "linecolor": "white",
            "showbackground": true,
            "ticks": "",
            "zerolinecolor": "white"
           },
           "zaxis": {
            "backgroundcolor": "#E5ECF6",
            "gridcolor": "white",
            "gridwidth": 2,
            "linecolor": "white",
            "showbackground": true,
            "ticks": "",
            "zerolinecolor": "white"
           }
          },
          "shapedefaults": {
           "line": {
            "color": "#2a3f5f"
           }
          },
          "ternary": {
           "aaxis": {
            "gridcolor": "white",
            "linecolor": "white",
            "ticks": ""
           },
           "baxis": {
            "gridcolor": "white",
            "linecolor": "white",
            "ticks": ""
           },
           "bgcolor": "#E5ECF6",
           "caxis": {
            "gridcolor": "white",
            "linecolor": "white",
            "ticks": ""
           }
          },
          "title": {
           "x": 0.05
          },
          "xaxis": {
           "automargin": true,
           "gridcolor": "white",
           "linecolor": "white",
           "ticks": "",
           "title": {
            "standoff": 15
           },
           "zerolinecolor": "white",
           "zerolinewidth": 2
          },
          "yaxis": {
           "automargin": true,
           "gridcolor": "white",
           "linecolor": "white",
           "ticks": "",
           "title": {
            "standoff": 15
           },
           "zerolinecolor": "white",
           "zerolinewidth": 2
          }
         }
        },
        "title": {
         "text": "Null values in Crime data"
        },
        "width": 1000,
        "xaxis": {
         "anchor": "y",
         "domain": [
          0,
          1
         ],
         "title": {
          "text": "index"
         }
        },
        "yaxis": {
         "anchor": "x",
         "domain": [
          0,
          1
         ],
         "title": {
          "text": "value"
         }
        }
       }
      },
      "text/html": [
       "<div>                            <div id=\"9714b103-e5d9-492e-8859-bd96d9318d67\" class=\"plotly-graph-div\" style=\"height:700px; width:1000px;\"></div>            <script type=\"text/javascript\">                require([\"plotly\"], function(Plotly) {                    window.PLOTLYENV=window.PLOTLYENV || {};                                    if (document.getElementById(\"9714b103-e5d9-492e-8859-bd96d9318d67\")) {                    Plotly.newPlot(                        \"9714b103-e5d9-492e-8859-bd96d9318d67\",                        [{\"alignmentgroup\":\"True\",\"hovertemplate\":\"variable=0<br>index=%{x}<br>value=%{y}<extra></extra>\",\"legendgroup\":\"0\",\"marker\":{\"color\":\"#636efa\",\"pattern\":{\"shape\":\"\"}},\"name\":\"0\",\"offsetgroup\":\"0\",\"orientation\":\"v\",\"showlegend\":true,\"textposition\":\"outside\",\"texttemplate\":\"%{y:.2s}\",\"x\":[\"FILE NUMBER\",\"OFFENSE DATE\",\"OFFENSE TIME\",\"CRIME\",\"COMMITTED\",\"OFFENSE\",\"OFFENSE DESCRIPTION\",\"FULL ADDRESS\",\"ADDRESS NUMBER\",\"STREET DIRECTION\",\"STREET NAME\",\"STREET TYPE\",\"CITY\",\"STATE\",\"ZIP CODE\",\"DISTRICT\",\"ZONE\",\"SUBZONE\",\"COMPLETE DISTRICT\",\"COUNCIL DISTRICT\",\"CRIME PREVENTION DISTRICT\",\"GEOLOCATION\"],\"xaxis\":\"x\",\"y\":[7313,0,0,0,0,0,0,7313,8130,410334,7313,23913,7313,7313,3047,23122,23122,23122,23122,3315,3305,7313],\"yaxis\":\"y\",\"type\":\"bar\",\"textfont\":{\"size\":12},\"cliponaxis\":false,\"textangle\":0}],                        {\"template\":{\"data\":{\"bar\":[{\"error_x\":{\"color\":\"#2a3f5f\"},\"error_y\":{\"color\":\"#2a3f5f\"},\"marker\":{\"line\":{\"color\":\"#E5ECF6\",\"width\":0.5},\"pattern\":{\"fillmode\":\"overlay\",\"size\":10,\"solidity\":0.2}},\"type\":\"bar\"}],\"barpolar\":[{\"marker\":{\"line\":{\"color\":\"#E5ECF6\",\"width\":0.5},\"pattern\":{\"fillmode\":\"overlay\",\"size\":10,\"solidity\":0.2}},\"type\":\"barpolar\"}],\"carpet\":[{\"aaxis\":{\"endlinecolor\":\"#2a3f5f\",\"gridcolor\":\"white\",\"linecolor\":\"white\",\"minorgridcolor\":\"white\",\"startlinecolor\":\"#2a3f5f\"},\"baxis\":{\"endlinecolor\":\"#2a3f5f\",\"gridcolor\":\"white\",\"linecolor\":\"white\",\"minorgridcolor\":\"white\",\"startlinecolor\":\"#2a3f5f\"},\"type\":\"carpet\"}],\"choropleth\":[{\"colorbar\":{\"outlinewidth\":0,\"ticks\":\"\"},\"type\":\"choropleth\"}],\"contour\":[{\"colorbar\":{\"outlinewidth\":0,\"ticks\":\"\"},\"colorscale\":[[0.0,\"#0d0887\"],[0.1111111111111111,\"#46039f\"],[0.2222222222222222,\"#7201a8\"],[0.3333333333333333,\"#9c179e\"],[0.4444444444444444,\"#bd3786\"],[0.5555555555555556,\"#d8576b\"],[0.6666666666666666,\"#ed7953\"],[0.7777777777777778,\"#fb9f3a\"],[0.8888888888888888,\"#fdca26\"],[1.0,\"#f0f921\"]],\"type\":\"contour\"}],\"contourcarpet\":[{\"colorbar\":{\"outlinewidth\":0,\"ticks\":\"\"},\"type\":\"contourcarpet\"}],\"heatmap\":[{\"colorbar\":{\"outlinewidth\":0,\"ticks\":\"\"},\"colorscale\":[[0.0,\"#0d0887\"],[0.1111111111111111,\"#46039f\"],[0.2222222222222222,\"#7201a8\"],[0.3333333333333333,\"#9c179e\"],[0.4444444444444444,\"#bd3786\"],[0.5555555555555556,\"#d8576b\"],[0.6666666666666666,\"#ed7953\"],[0.7777777777777778,\"#fb9f3a\"],[0.8888888888888888,\"#fdca26\"],[1.0,\"#f0f921\"]],\"type\":\"heatmap\"}],\"heatmapgl\":[{\"colorbar\":{\"outlinewidth\":0,\"ticks\":\"\"},\"colorscale\":[[0.0,\"#0d0887\"],[0.1111111111111111,\"#46039f\"],[0.2222222222222222,\"#7201a8\"],[0.3333333333333333,\"#9c179e\"],[0.4444444444444444,\"#bd3786\"],[0.5555555555555556,\"#d8576b\"],[0.6666666666666666,\"#ed7953\"],[0.7777777777777778,\"#fb9f3a\"],[0.8888888888888888,\"#fdca26\"],[1.0,\"#f0f921\"]],\"type\":\"heatmapgl\"}],\"histogram\":[{\"marker\":{\"pattern\":{\"fillmode\":\"overlay\",\"size\":10,\"solidity\":0.2}},\"type\":\"histogram\"}],\"histogram2d\":[{\"colorbar\":{\"outlinewidth\":0,\"ticks\":\"\"},\"colorscale\":[[0.0,\"#0d0887\"],[0.1111111111111111,\"#46039f\"],[0.2222222222222222,\"#7201a8\"],[0.3333333333333333,\"#9c179e\"],[0.4444444444444444,\"#bd3786\"],[0.5555555555555556,\"#d8576b\"],[0.6666666666666666,\"#ed7953\"],[0.7777777777777778,\"#fb9f3a\"],[0.8888888888888888,\"#fdca26\"],[1.0,\"#f0f921\"]],\"type\":\"histogram2d\"}],\"histogram2dcontour\":[{\"colorbar\":{\"outlinewidth\":0,\"ticks\":\"\"},\"colorscale\":[[0.0,\"#0d0887\"],[0.1111111111111111,\"#46039f\"],[0.2222222222222222,\"#7201a8\"],[0.3333333333333333,\"#9c179e\"],[0.4444444444444444,\"#bd3786\"],[0.5555555555555556,\"#d8576b\"],[0.6666666666666666,\"#ed7953\"],[0.7777777777777778,\"#fb9f3a\"],[0.8888888888888888,\"#fdca26\"],[1.0,\"#f0f921\"]],\"type\":\"histogram2dcontour\"}],\"mesh3d\":[{\"colorbar\":{\"outlinewidth\":0,\"ticks\":\"\"},\"type\":\"mesh3d\"}],\"parcoords\":[{\"line\":{\"colorbar\":{\"outlinewidth\":0,\"ticks\":\"\"}},\"type\":\"parcoords\"}],\"pie\":[{\"automargin\":true,\"type\":\"pie\"}],\"scatter\":[{\"marker\":{\"colorbar\":{\"outlinewidth\":0,\"ticks\":\"\"}},\"type\":\"scatter\"}],\"scatter3d\":[{\"line\":{\"colorbar\":{\"outlinewidth\":0,\"ticks\":\"\"}},\"marker\":{\"colorbar\":{\"outlinewidth\":0,\"ticks\":\"\"}},\"type\":\"scatter3d\"}],\"scattercarpet\":[{\"marker\":{\"colorbar\":{\"outlinewidth\":0,\"ticks\":\"\"}},\"type\":\"scattercarpet\"}],\"scattergeo\":[{\"marker\":{\"colorbar\":{\"outlinewidth\":0,\"ticks\":\"\"}},\"type\":\"scattergeo\"}],\"scattergl\":[{\"marker\":{\"colorbar\":{\"outlinewidth\":0,\"ticks\":\"\"}},\"type\":\"scattergl\"}],\"scattermapbox\":[{\"marker\":{\"colorbar\":{\"outlinewidth\":0,\"ticks\":\"\"}},\"type\":\"scattermapbox\"}],\"scatterpolar\":[{\"marker\":{\"colorbar\":{\"outlinewidth\":0,\"ticks\":\"\"}},\"type\":\"scatterpolar\"}],\"scatterpolargl\":[{\"marker\":{\"colorbar\":{\"outlinewidth\":0,\"ticks\":\"\"}},\"type\":\"scatterpolargl\"}],\"scatterternary\":[{\"marker\":{\"colorbar\":{\"outlinewidth\":0,\"ticks\":\"\"}},\"type\":\"scatterternary\"}],\"surface\":[{\"colorbar\":{\"outlinewidth\":0,\"ticks\":\"\"},\"colorscale\":[[0.0,\"#0d0887\"],[0.1111111111111111,\"#46039f\"],[0.2222222222222222,\"#7201a8\"],[0.3333333333333333,\"#9c179e\"],[0.4444444444444444,\"#bd3786\"],[0.5555555555555556,\"#d8576b\"],[0.6666666666666666,\"#ed7953\"],[0.7777777777777778,\"#fb9f3a\"],[0.8888888888888888,\"#fdca26\"],[1.0,\"#f0f921\"]],\"type\":\"surface\"}],\"table\":[{\"cells\":{\"fill\":{\"color\":\"#EBF0F8\"},\"line\":{\"color\":\"white\"}},\"header\":{\"fill\":{\"color\":\"#C8D4E3\"},\"line\":{\"color\":\"white\"}},\"type\":\"table\"}]},\"layout\":{\"annotationdefaults\":{\"arrowcolor\":\"#2a3f5f\",\"arrowhead\":0,\"arrowwidth\":1},\"autotypenumbers\":\"strict\",\"coloraxis\":{\"colorbar\":{\"outlinewidth\":0,\"ticks\":\"\"}},\"colorscale\":{\"diverging\":[[0,\"#8e0152\"],[0.1,\"#c51b7d\"],[0.2,\"#de77ae\"],[0.3,\"#f1b6da\"],[0.4,\"#fde0ef\"],[0.5,\"#f7f7f7\"],[0.6,\"#e6f5d0\"],[0.7,\"#b8e186\"],[0.8,\"#7fbc41\"],[0.9,\"#4d9221\"],[1,\"#276419\"]],\"sequential\":[[0.0,\"#0d0887\"],[0.1111111111111111,\"#46039f\"],[0.2222222222222222,\"#7201a8\"],[0.3333333333333333,\"#9c179e\"],[0.4444444444444444,\"#bd3786\"],[0.5555555555555556,\"#d8576b\"],[0.6666666666666666,\"#ed7953\"],[0.7777777777777778,\"#fb9f3a\"],[0.8888888888888888,\"#fdca26\"],[1.0,\"#f0f921\"]],\"sequentialminus\":[[0.0,\"#0d0887\"],[0.1111111111111111,\"#46039f\"],[0.2222222222222222,\"#7201a8\"],[0.3333333333333333,\"#9c179e\"],[0.4444444444444444,\"#bd3786\"],[0.5555555555555556,\"#d8576b\"],[0.6666666666666666,\"#ed7953\"],[0.7777777777777778,\"#fb9f3a\"],[0.8888888888888888,\"#fdca26\"],[1.0,\"#f0f921\"]]},\"colorway\":[\"#636efa\",\"#EF553B\",\"#00cc96\",\"#ab63fa\",\"#FFA15A\",\"#19d3f3\",\"#FF6692\",\"#B6E880\",\"#FF97FF\",\"#FECB52\"],\"font\":{\"color\":\"#2a3f5f\"},\"geo\":{\"bgcolor\":\"white\",\"lakecolor\":\"white\",\"landcolor\":\"#E5ECF6\",\"showlakes\":true,\"showland\":true,\"subunitcolor\":\"white\"},\"hoverlabel\":{\"align\":\"left\"},\"hovermode\":\"closest\",\"mapbox\":{\"style\":\"light\"},\"paper_bgcolor\":\"white\",\"plot_bgcolor\":\"#E5ECF6\",\"polar\":{\"angularaxis\":{\"gridcolor\":\"white\",\"linecolor\":\"white\",\"ticks\":\"\"},\"bgcolor\":\"#E5ECF6\",\"radialaxis\":{\"gridcolor\":\"white\",\"linecolor\":\"white\",\"ticks\":\"\"}},\"scene\":{\"xaxis\":{\"backgroundcolor\":\"#E5ECF6\",\"gridcolor\":\"white\",\"gridwidth\":2,\"linecolor\":\"white\",\"showbackground\":true,\"ticks\":\"\",\"zerolinecolor\":\"white\"},\"yaxis\":{\"backgroundcolor\":\"#E5ECF6\",\"gridcolor\":\"white\",\"gridwidth\":2,\"linecolor\":\"white\",\"showbackground\":true,\"ticks\":\"\",\"zerolinecolor\":\"white\"},\"zaxis\":{\"backgroundcolor\":\"#E5ECF6\",\"gridcolor\":\"white\",\"gridwidth\":2,\"linecolor\":\"white\",\"showbackground\":true,\"ticks\":\"\",\"zerolinecolor\":\"white\"}},\"shapedefaults\":{\"line\":{\"color\":\"#2a3f5f\"}},\"ternary\":{\"aaxis\":{\"gridcolor\":\"white\",\"linecolor\":\"white\",\"ticks\":\"\"},\"baxis\":{\"gridcolor\":\"white\",\"linecolor\":\"white\",\"ticks\":\"\"},\"bgcolor\":\"#E5ECF6\",\"caxis\":{\"gridcolor\":\"white\",\"linecolor\":\"white\",\"ticks\":\"\"}},\"title\":{\"x\":0.05},\"xaxis\":{\"automargin\":true,\"gridcolor\":\"white\",\"linecolor\":\"white\",\"ticks\":\"\",\"title\":{\"standoff\":15},\"zerolinecolor\":\"white\",\"zerolinewidth\":2},\"yaxis\":{\"automargin\":true,\"gridcolor\":\"white\",\"linecolor\":\"white\",\"ticks\":\"\",\"title\":{\"standoff\":15},\"zerolinecolor\":\"white\",\"zerolinewidth\":2}}},\"xaxis\":{\"anchor\":\"y\",\"domain\":[0.0,1.0],\"title\":{\"text\":\"index\"}},\"yaxis\":{\"anchor\":\"x\",\"domain\":[0.0,1.0],\"title\":{\"text\":\"value\"}},\"legend\":{\"title\":{\"text\":\"variable\"},\"tracegroupgap\":0},\"title\":{\"text\":\"Null values in Crime data\"},\"barmode\":\"relative\",\"height\":700,\"width\":1000},                        {\"responsive\": true}                    ).then(function(){\n",
       "                            \n",
       "var gd = document.getElementById('9714b103-e5d9-492e-8859-bd96d9318d67');\n",
       "var x = new MutationObserver(function (mutations, observer) {{\n",
       "        var display = window.getComputedStyle(gd).display;\n",
       "        if (!display || display === 'none') {{\n",
       "            console.log([gd, 'removed!']);\n",
       "            Plotly.purge(gd);\n",
       "            observer.disconnect();\n",
       "        }}\n",
       "}});\n",
       "\n",
       "// Listen for the removal of the full notebook cells\n",
       "var notebookContainer = gd.closest('#notebook-container');\n",
       "if (notebookContainer) {{\n",
       "    x.observe(notebookContainer, {childList: true});\n",
       "}}\n",
       "\n",
       "// Listen for the clearing of the current output cell\n",
       "var outputEl = gd.closest('.output');\n",
       "if (outputEl) {{\n",
       "    x.observe(outputEl, {childList: true});\n",
       "}}\n",
       "\n",
       "                        })                };                });            </script>        </div>"
      ]
     },
     "metadata": {},
     "output_type": "display_data"
    }
   ],
   "source": [
    "#Plotting the null values present in the data.\n",
    "a=crime.isnull().sum()\n",
    "fig=px.bar(a,text_auto='.2s',title=\"Null values in Crime data\",width=1000,height=700)\n",
    "fig.update_traces(textfont_size=12, textangle=0, textposition=\"outside\", cliponaxis=False)\n",
    "fig.show()"
   ]
  },
  {
   "cell_type": "markdown",
   "id": "c8f7de22",
   "metadata": {},
   "source": [
    "###### INFERENCES:\n",
    "    a)Feature column 'STREET DIRECTION' has the most number of missing values which is 83% of missing values.\n",
    "    b)Some of the other columns have very small percentage of missing values so we can remove the missing rows from that columns, but for 'STREET DIRECTION' the column should be removed as it has high percentage of missing values.\n",
    "    "
   ]
  },
  {
   "cell_type": "code",
   "execution_count": 140,
   "id": "93e54aff",
   "metadata": {},
   "outputs": [
    {
     "data": {
      "text/html": [
       "<div>\n",
       "<style scoped>\n",
       "    .dataframe tbody tr th:only-of-type {\n",
       "        vertical-align: middle;\n",
       "    }\n",
       "\n",
       "    .dataframe tbody tr th {\n",
       "        vertical-align: top;\n",
       "    }\n",
       "\n",
       "    .dataframe thead th {\n",
       "        text-align: right;\n",
       "    }\n",
       "</style>\n",
       "<table border=\"1\" class=\"dataframe\">\n",
       "  <thead>\n",
       "    <tr style=\"text-align: right;\">\n",
       "      <th></th>\n",
       "      <th>FILE NUMBER</th>\n",
       "      <th>ADDRESS NUMBER</th>\n",
       "      <th>ZIP CODE</th>\n",
       "      <th>COUNCIL DISTRICT</th>\n",
       "    </tr>\n",
       "  </thead>\n",
       "  <tbody>\n",
       "    <tr>\n",
       "      <th>count</th>\n",
       "      <td>4.832650e+05</td>\n",
       "      <td>482448.000000</td>\n",
       "      <td>487531.000000</td>\n",
       "      <td>487263.000000</td>\n",
       "    </tr>\n",
       "    <tr>\n",
       "      <th>mean</th>\n",
       "      <td>1.516993e+09</td>\n",
       "      <td>4351.193814</td>\n",
       "      <td>70811.595012</td>\n",
       "      <td>7.749476</td>\n",
       "    </tr>\n",
       "    <tr>\n",
       "      <th>std</th>\n",
       "      <td>2.892894e+08</td>\n",
       "      <td>3459.700401</td>\n",
       "      <td>1845.609933</td>\n",
       "      <td>2.834581</td>\n",
       "    </tr>\n",
       "    <tr>\n",
       "      <th>min</th>\n",
       "      <td>1.000000e+09</td>\n",
       "      <td>1.000000</td>\n",
       "      <td>1.000000</td>\n",
       "      <td>1.000000</td>\n",
       "    </tr>\n",
       "    <tr>\n",
       "      <th>25%</th>\n",
       "      <td>1.300007e+09</td>\n",
       "      <td>1689.000000</td>\n",
       "      <td>70805.000000</td>\n",
       "      <td>6.000000</td>\n",
       "    </tr>\n",
       "    <tr>\n",
       "      <th>50%</th>\n",
       "      <td>1.500072e+09</td>\n",
       "      <td>3484.000000</td>\n",
       "      <td>70806.000000</td>\n",
       "      <td>7.000000</td>\n",
       "    </tr>\n",
       "    <tr>\n",
       "      <th>75%</th>\n",
       "      <td>1.800015e+09</td>\n",
       "      <td>5963.000000</td>\n",
       "      <td>70811.000000</td>\n",
       "      <td>10.000000</td>\n",
       "    </tr>\n",
       "    <tr>\n",
       "      <th>max</th>\n",
       "      <td>5.500004e+09</td>\n",
       "      <td>99999.000000</td>\n",
       "      <td>708078.000000</td>\n",
       "      <td>12.000000</td>\n",
       "    </tr>\n",
       "  </tbody>\n",
       "</table>\n",
       "</div>"
      ],
      "text/plain": [
       "        FILE NUMBER  ADDRESS NUMBER       ZIP CODE  COUNCIL DISTRICT\n",
       "count  4.832650e+05   482448.000000  487531.000000     487263.000000\n",
       "mean   1.516993e+09     4351.193814   70811.595012          7.749476\n",
       "std    2.892894e+08     3459.700401    1845.609933          2.834581\n",
       "min    1.000000e+09        1.000000       1.000000          1.000000\n",
       "25%    1.300007e+09     1689.000000   70805.000000          6.000000\n",
       "50%    1.500072e+09     3484.000000   70806.000000          7.000000\n",
       "75%    1.800015e+09     5963.000000   70811.000000         10.000000\n",
       "max    5.500004e+09    99999.000000  708078.000000         12.000000"
      ]
     },
     "execution_count": 140,
     "metadata": {},
     "output_type": "execute_result"
    }
   ],
   "source": [
    "crime.describe() #Genrating Descriptive Statistics for crime data."
   ]
  },
  {
   "cell_type": "code",
   "execution_count": 141,
   "id": "8d0cbaec",
   "metadata": {},
   "outputs": [
    {
     "data": {
      "text/plain": [
       "Index(['FILE NUMBER', 'OFFENSE DATE', 'OFFENSE TIME', 'CRIME', 'COMMITTED',\n",
       "       'OFFENSE', 'OFFENSE DESCRIPTION', 'FULL ADDRESS', 'ADDRESS NUMBER',\n",
       "       'STREET DIRECTION', 'STREET NAME', 'STREET TYPE', 'CITY', 'STATE',\n",
       "       'ZIP CODE', 'DISTRICT', 'ZONE', 'SUBZONE', 'COMPLETE DISTRICT',\n",
       "       'COUNCIL DISTRICT', 'CRIME PREVENTION DISTRICT', 'GEOLOCATION'],\n",
       "      dtype='object')"
      ]
     },
     "execution_count": 141,
     "metadata": {},
     "output_type": "execute_result"
    }
   ],
   "source": [
    "#Lets renmove the unwanted columns from the data.\n",
    "crime.columns"
   ]
  },
  {
   "cell_type": "markdown",
   "id": "e91643eb",
   "metadata": {},
   "source": [
    "Columns to be removed:- 'FILE NUMBER','OFFENSE DESCRIPTION','FULL ADDRESS','STREET DIRECTION','STREET NAME'."
   ]
  },
  {
   "cell_type": "code",
   "execution_count": 142,
   "id": "def6492e",
   "metadata": {},
   "outputs": [],
   "source": [
    "crime=crime.drop(['FILE NUMBER','OFFENSE DESCRIPTION','FULL ADDRESS','STREET DIRECTION','STREET NAME'],axis=1)"
   ]
  },
  {
   "cell_type": "code",
   "execution_count": 143,
   "id": "86c01f88",
   "metadata": {},
   "outputs": [
    {
     "data": {
      "text/html": [
       "<div>\n",
       "<style scoped>\n",
       "    .dataframe tbody tr th:only-of-type {\n",
       "        vertical-align: middle;\n",
       "    }\n",
       "\n",
       "    .dataframe tbody tr th {\n",
       "        vertical-align: top;\n",
       "    }\n",
       "\n",
       "    .dataframe thead th {\n",
       "        text-align: right;\n",
       "    }\n",
       "</style>\n",
       "<table border=\"1\" class=\"dataframe\">\n",
       "  <thead>\n",
       "    <tr style=\"text-align: right;\">\n",
       "      <th></th>\n",
       "      <th>OFFENSE DATE</th>\n",
       "      <th>OFFENSE TIME</th>\n",
       "      <th>CRIME</th>\n",
       "      <th>COMMITTED</th>\n",
       "      <th>OFFENSE</th>\n",
       "      <th>ADDRESS NUMBER</th>\n",
       "      <th>STREET TYPE</th>\n",
       "      <th>CITY</th>\n",
       "      <th>STATE</th>\n",
       "      <th>ZIP CODE</th>\n",
       "      <th>DISTRICT</th>\n",
       "      <th>ZONE</th>\n",
       "      <th>SUBZONE</th>\n",
       "      <th>COMPLETE DISTRICT</th>\n",
       "      <th>COUNCIL DISTRICT</th>\n",
       "      <th>CRIME PREVENTION DISTRICT</th>\n",
       "      <th>GEOLOCATION</th>\n",
       "    </tr>\n",
       "  </thead>\n",
       "  <tbody>\n",
       "    <tr>\n",
       "      <th>0</th>\n",
       "      <td>10/01/2013</td>\n",
       "      <td>1200</td>\n",
       "      <td>JUVENILE</td>\n",
       "      <td>COMMITTED</td>\n",
       "      <td>14:80</td>\n",
       "      <td>NaN</td>\n",
       "      <td>NaN</td>\n",
       "      <td>NaN</td>\n",
       "      <td>NaN</td>\n",
       "      <td>70805.0</td>\n",
       "      <td>1</td>\n",
       "      <td>F</td>\n",
       "      <td>2</td>\n",
       "      <td>1F2</td>\n",
       "      <td>7.0</td>\n",
       "      <td>NONE</td>\n",
       "      <td>NaN</td>\n",
       "    </tr>\n",
       "    <tr>\n",
       "      <th>1</th>\n",
       "      <td>11/05/2019</td>\n",
       "      <td>0038</td>\n",
       "      <td>JUVENILE</td>\n",
       "      <td>ATTEMPTED</td>\n",
       "      <td>14:80</td>\n",
       "      <td>NaN</td>\n",
       "      <td>NaN</td>\n",
       "      <td>NaN</td>\n",
       "      <td>NaN</td>\n",
       "      <td>70805.0</td>\n",
       "      <td>4</td>\n",
       "      <td>E</td>\n",
       "      <td>2</td>\n",
       "      <td>4E2</td>\n",
       "      <td>5.0</td>\n",
       "      <td>NONE</td>\n",
       "      <td>NaN</td>\n",
       "    </tr>\n",
       "    <tr>\n",
       "      <th>2</th>\n",
       "      <td>12/05/2012</td>\n",
       "      <td>1800</td>\n",
       "      <td>JUVENILE</td>\n",
       "      <td>COMMITTED</td>\n",
       "      <td>14:80</td>\n",
       "      <td>NaN</td>\n",
       "      <td>NaN</td>\n",
       "      <td>NaN</td>\n",
       "      <td>NaN</td>\n",
       "      <td>70802.0</td>\n",
       "      <td>1</td>\n",
       "      <td>B</td>\n",
       "      <td>1</td>\n",
       "      <td>1B1</td>\n",
       "      <td>7.0</td>\n",
       "      <td>NONE</td>\n",
       "      <td>NaN</td>\n",
       "    </tr>\n",
       "    <tr>\n",
       "      <th>3</th>\n",
       "      <td>05/28/2016</td>\n",
       "      <td>2100</td>\n",
       "      <td>JUVENILE</td>\n",
       "      <td>COMMITTED</td>\n",
       "      <td>14:92</td>\n",
       "      <td>NaN</td>\n",
       "      <td>NaN</td>\n",
       "      <td>NaN</td>\n",
       "      <td>NaN</td>\n",
       "      <td>70802.0</td>\n",
       "      <td>2</td>\n",
       "      <td>D</td>\n",
       "      <td>3</td>\n",
       "      <td>2D3</td>\n",
       "      <td>10.0</td>\n",
       "      <td>NONE</td>\n",
       "      <td>NaN</td>\n",
       "    </tr>\n",
       "    <tr>\n",
       "      <th>4</th>\n",
       "      <td>07/10/2014</td>\n",
       "      <td>0030</td>\n",
       "      <td>JUVENILE</td>\n",
       "      <td>COMMITTED</td>\n",
       "      <td>14:93.3</td>\n",
       "      <td>NaN</td>\n",
       "      <td>NaN</td>\n",
       "      <td>NaN</td>\n",
       "      <td>NaN</td>\n",
       "      <td>70805.0</td>\n",
       "      <td>1</td>\n",
       "      <td>B</td>\n",
       "      <td>2</td>\n",
       "      <td>1B2</td>\n",
       "      <td>7.0</td>\n",
       "      <td>NONE</td>\n",
       "      <td>NaN</td>\n",
       "    </tr>\n",
       "  </tbody>\n",
       "</table>\n",
       "</div>"
      ],
      "text/plain": [
       "  OFFENSE DATE OFFENSE TIME     CRIME  COMMITTED  OFFENSE  ADDRESS NUMBER  \\\n",
       "0   10/01/2013         1200  JUVENILE  COMMITTED    14:80             NaN   \n",
       "1   11/05/2019         0038  JUVENILE  ATTEMPTED    14:80             NaN   \n",
       "2   12/05/2012         1800  JUVENILE  COMMITTED    14:80             NaN   \n",
       "3   05/28/2016         2100  JUVENILE  COMMITTED    14:92             NaN   \n",
       "4   07/10/2014         0030  JUVENILE  COMMITTED  14:93.3             NaN   \n",
       "\n",
       "  STREET TYPE CITY STATE  ZIP CODE DISTRICT ZONE SUBZONE COMPLETE DISTRICT  \\\n",
       "0         NaN  NaN   NaN   70805.0        1    F       2               1F2   \n",
       "1         NaN  NaN   NaN   70805.0        4    E       2               4E2   \n",
       "2         NaN  NaN   NaN   70802.0        1    B       1               1B1   \n",
       "3         NaN  NaN   NaN   70802.0        2    D       3               2D3   \n",
       "4         NaN  NaN   NaN   70805.0        1    B       2               1B2   \n",
       "\n",
       "   COUNCIL DISTRICT CRIME PREVENTION DISTRICT GEOLOCATION  \n",
       "0               7.0                      NONE         NaN  \n",
       "1               5.0                      NONE         NaN  \n",
       "2               7.0                      NONE         NaN  \n",
       "3              10.0                      NONE         NaN  \n",
       "4               7.0                      NONE         NaN  "
      ]
     },
     "execution_count": 143,
     "metadata": {},
     "output_type": "execute_result"
    }
   ],
   "source": [
    "crime.head()"
   ]
  },
  {
   "cell_type": "code",
   "execution_count": 144,
   "id": "ed98534d",
   "metadata": {},
   "outputs": [],
   "source": [
    "crime=crime.dropna()"
   ]
  },
  {
   "cell_type": "code",
   "execution_count": 145,
   "id": "1830c6cd",
   "metadata": {},
   "outputs": [
    {
     "data": {
      "text/html": [
       "<div>\n",
       "<style scoped>\n",
       "    .dataframe tbody tr th:only-of-type {\n",
       "        vertical-align: middle;\n",
       "    }\n",
       "\n",
       "    .dataframe tbody tr th {\n",
       "        vertical-align: top;\n",
       "    }\n",
       "\n",
       "    .dataframe thead th {\n",
       "        text-align: right;\n",
       "    }\n",
       "</style>\n",
       "<table border=\"1\" class=\"dataframe\">\n",
       "  <thead>\n",
       "    <tr style=\"text-align: right;\">\n",
       "      <th></th>\n",
       "      <th>OFFENSE DATE</th>\n",
       "      <th>OFFENSE TIME</th>\n",
       "      <th>CRIME</th>\n",
       "      <th>COMMITTED</th>\n",
       "      <th>OFFENSE</th>\n",
       "      <th>ADDRESS NUMBER</th>\n",
       "      <th>STREET TYPE</th>\n",
       "      <th>CITY</th>\n",
       "      <th>STATE</th>\n",
       "      <th>ZIP CODE</th>\n",
       "      <th>DISTRICT</th>\n",
       "      <th>ZONE</th>\n",
       "      <th>SUBZONE</th>\n",
       "      <th>COMPLETE DISTRICT</th>\n",
       "      <th>COUNCIL DISTRICT</th>\n",
       "      <th>CRIME PREVENTION DISTRICT</th>\n",
       "      <th>GEOLOCATION</th>\n",
       "    </tr>\n",
       "  </thead>\n",
       "  <tbody>\n",
       "    <tr>\n",
       "      <th>40</th>\n",
       "      <td>11/22/2019</td>\n",
       "      <td>2108</td>\n",
       "      <td>BATTERY</td>\n",
       "      <td>COMMITTED</td>\n",
       "      <td>14:35</td>\n",
       "      <td>1545.0</td>\n",
       "      <td>TH</td>\n",
       "      <td>BATON ROUGE</td>\n",
       "      <td>LA</td>\n",
       "      <td>70808.0</td>\n",
       "      <td>1</td>\n",
       "      <td>B</td>\n",
       "      <td>2</td>\n",
       "      <td>1B2</td>\n",
       "      <td>7.0</td>\n",
       "      <td>NONE</td>\n",
       "      <td>1545 N ACADIAN TH\\nBATON ROUGE, LA 70805</td>\n",
       "    </tr>\n",
       "    <tr>\n",
       "      <th>67</th>\n",
       "      <td>06/28/2012</td>\n",
       "      <td>1721</td>\n",
       "      <td>OTHER</td>\n",
       "      <td>COMMITTED</td>\n",
       "      <td>11:131A</td>\n",
       "      <td>100.0</td>\n",
       "      <td>HW</td>\n",
       "      <td>BATON ROUGE</td>\n",
       "      <td>LA</td>\n",
       "      <td>70802.0</td>\n",
       "      <td>2</td>\n",
       "      <td>A</td>\n",
       "      <td>1</td>\n",
       "      <td>2A1</td>\n",
       "      <td>10.0</td>\n",
       "      <td>NONE</td>\n",
       "      <td>100 EAST I10 HW\\nBATON ROUGE, LA</td>\n",
       "    </tr>\n",
       "    <tr>\n",
       "      <th>81</th>\n",
       "      <td>01/14/2020</td>\n",
       "      <td>1907</td>\n",
       "      <td>THEFT</td>\n",
       "      <td>COMMITTED</td>\n",
       "      <td>13:67</td>\n",
       "      <td>8280.0</td>\n",
       "      <td>RD</td>\n",
       "      <td>BATON ROUGE</td>\n",
       "      <td>LA</td>\n",
       "      <td>70811.0</td>\n",
       "      <td>4</td>\n",
       "      <td>D</td>\n",
       "      <td>1</td>\n",
       "      <td>4D1</td>\n",
       "      <td>5.0</td>\n",
       "      <td>NONE</td>\n",
       "      <td>8280 CYPRESS RD\\nBATON ROUGE, LA 70811</td>\n",
       "    </tr>\n",
       "    <tr>\n",
       "      <th>116</th>\n",
       "      <td>11/11/2012</td>\n",
       "      <td>0130</td>\n",
       "      <td>OTHER</td>\n",
       "      <td>COMMITTED</td>\n",
       "      <td>11:140</td>\n",
       "      <td>800.0</td>\n",
       "      <td>HW</td>\n",
       "      <td>BATON ROUGE</td>\n",
       "      <td>LA</td>\n",
       "      <td>70802.0</td>\n",
       "      <td>2</td>\n",
       "      <td>B</td>\n",
       "      <td>2</td>\n",
       "      <td>2B2</td>\n",
       "      <td>10.0</td>\n",
       "      <td>NONE</td>\n",
       "      <td>800 EAST I10 HW\\nBATON ROUGE, LA 70808</td>\n",
       "    </tr>\n",
       "    <tr>\n",
       "      <th>137</th>\n",
       "      <td>04/05/2020</td>\n",
       "      <td>0150</td>\n",
       "      <td>FIREARM</td>\n",
       "      <td>COMMITTED</td>\n",
       "      <td>14:94</td>\n",
       "      <td>9700.0</td>\n",
       "      <td>AV</td>\n",
       "      <td>BATON ROUGE</td>\n",
       "      <td>LA</td>\n",
       "      <td>70807.0</td>\n",
       "      <td>4</td>\n",
       "      <td>A</td>\n",
       "      <td>1</td>\n",
       "      <td>4A1</td>\n",
       "      <td>2.0</td>\n",
       "      <td>NONE</td>\n",
       "      <td>9700 MILLS AV\\nBATON ROUGE, LA</td>\n",
       "    </tr>\n",
       "    <tr>\n",
       "      <th>...</th>\n",
       "      <td>...</td>\n",
       "      <td>...</td>\n",
       "      <td>...</td>\n",
       "      <td>...</td>\n",
       "      <td>...</td>\n",
       "      <td>...</td>\n",
       "      <td>...</td>\n",
       "      <td>...</td>\n",
       "      <td>...</td>\n",
       "      <td>...</td>\n",
       "      <td>...</td>\n",
       "      <td>...</td>\n",
       "      <td>...</td>\n",
       "      <td>...</td>\n",
       "      <td>...</td>\n",
       "      <td>...</td>\n",
       "      <td>...</td>\n",
       "    </tr>\n",
       "    <tr>\n",
       "      <th>490573</th>\n",
       "      <td>08/24/2019</td>\n",
       "      <td>2130</td>\n",
       "      <td>NON-RESIDENTIAL BURGLARY</td>\n",
       "      <td>COMMITTED</td>\n",
       "      <td>14:62</td>\n",
       "      <td>2138.0</td>\n",
       "      <td>BL</td>\n",
       "      <td>BATON ROUGE</td>\n",
       "      <td>LA</td>\n",
       "      <td>70806.0</td>\n",
       "      <td>1</td>\n",
       "      <td>D</td>\n",
       "      <td>2</td>\n",
       "      <td>1D2</td>\n",
       "      <td>6.0</td>\n",
       "      <td>NONE</td>\n",
       "      <td>2138 WOODDALE BL\\nBATON ROUGE, LA 70806\\n(30.4...</td>\n",
       "    </tr>\n",
       "    <tr>\n",
       "      <th>490574</th>\n",
       "      <td>01/31/2016</td>\n",
       "      <td>1806</td>\n",
       "      <td>OTHER</td>\n",
       "      <td>COMMITTED</td>\n",
       "      <td>13:1018 D</td>\n",
       "      <td>2250.0</td>\n",
       "      <td>ST</td>\n",
       "      <td>BATON ROUGE</td>\n",
       "      <td>LA</td>\n",
       "      <td>70802.0</td>\n",
       "      <td>2</td>\n",
       "      <td>A</td>\n",
       "      <td>3</td>\n",
       "      <td>2A3</td>\n",
       "      <td>10.0</td>\n",
       "      <td>NONE</td>\n",
       "      <td>2250 FLORIDA ST\\nBATON ROUGE, LA\\n(30.450016, ...</td>\n",
       "    </tr>\n",
       "    <tr>\n",
       "      <th>490575</th>\n",
       "      <td>03/25/2020</td>\n",
       "      <td>1227</td>\n",
       "      <td>NON-RESIDENTIAL BURGLARY</td>\n",
       "      <td>COMMITTED</td>\n",
       "      <td>14:62/NRUF</td>\n",
       "      <td>8065.0</td>\n",
       "      <td>BL</td>\n",
       "      <td>BATON ROUGE</td>\n",
       "      <td>LA</td>\n",
       "      <td>70806.0</td>\n",
       "      <td>1</td>\n",
       "      <td>D</td>\n",
       "      <td>2</td>\n",
       "      <td>1D2</td>\n",
       "      <td>6.0</td>\n",
       "      <td>NONE</td>\n",
       "      <td>8065 FLORIDA BL\\nBATON ROUGE, LA 70806\\n(30.45...</td>\n",
       "    </tr>\n",
       "    <tr>\n",
       "      <th>490576</th>\n",
       "      <td>10/14/2019</td>\n",
       "      <td>2330</td>\n",
       "      <td>OTHER</td>\n",
       "      <td>COMMITTED</td>\n",
       "      <td>14:24</td>\n",
       "      <td>917.0</td>\n",
       "      <td>AV</td>\n",
       "      <td>BATON ROUGE</td>\n",
       "      <td>LA</td>\n",
       "      <td>70815.0</td>\n",
       "      <td>3</td>\n",
       "      <td>E</td>\n",
       "      <td>3</td>\n",
       "      <td>3E3</td>\n",
       "      <td>4.0</td>\n",
       "      <td>NONE</td>\n",
       "      <td>917 BRINWOOD AV\\nBATON ROUGE, LA\\n(30.450088, ...</td>\n",
       "    </tr>\n",
       "    <tr>\n",
       "      <th>490577</th>\n",
       "      <td>06/03/2016</td>\n",
       "      <td>201</td>\n",
       "      <td>OTHER</td>\n",
       "      <td>COMMITTED</td>\n",
       "      <td>11:252</td>\n",
       "      <td>4445.0</td>\n",
       "      <td>AV</td>\n",
       "      <td>BATON ROUGE</td>\n",
       "      <td>LA</td>\n",
       "      <td>70820.0</td>\n",
       "      <td>2</td>\n",
       "      <td>C</td>\n",
       "      <td>3</td>\n",
       "      <td>2C3</td>\n",
       "      <td>12.0</td>\n",
       "      <td>NONE</td>\n",
       "      <td>4445 ALVIN DARK AV\\nBATON ROUGE, LA\\n(30.39448...</td>\n",
       "    </tr>\n",
       "  </tbody>\n",
       "</table>\n",
       "<p>442300 rows × 17 columns</p>\n",
       "</div>"
      ],
      "text/plain": [
       "       OFFENSE DATE OFFENSE TIME                     CRIME  COMMITTED  \\\n",
       "40       11/22/2019         2108                   BATTERY  COMMITTED   \n",
       "67       06/28/2012         1721                     OTHER  COMMITTED   \n",
       "81       01/14/2020         1907                     THEFT  COMMITTED   \n",
       "116      11/11/2012         0130                     OTHER  COMMITTED   \n",
       "137      04/05/2020         0150                   FIREARM  COMMITTED   \n",
       "...             ...          ...                       ...        ...   \n",
       "490573   08/24/2019         2130  NON-RESIDENTIAL BURGLARY  COMMITTED   \n",
       "490574   01/31/2016         1806                     OTHER  COMMITTED   \n",
       "490575   03/25/2020         1227  NON-RESIDENTIAL BURGLARY  COMMITTED   \n",
       "490576   10/14/2019         2330                     OTHER  COMMITTED   \n",
       "490577   06/03/2016          201                     OTHER  COMMITTED   \n",
       "\n",
       "           OFFENSE  ADDRESS NUMBER STREET TYPE         CITY STATE  ZIP CODE  \\\n",
       "40           14:35          1545.0          TH  BATON ROUGE    LA   70808.0   \n",
       "67         11:131A           100.0          HW  BATON ROUGE    LA   70802.0   \n",
       "81           13:67          8280.0          RD  BATON ROUGE    LA   70811.0   \n",
       "116         11:140           800.0          HW  BATON ROUGE    LA   70802.0   \n",
       "137          14:94          9700.0          AV  BATON ROUGE    LA   70807.0   \n",
       "...            ...             ...         ...          ...   ...       ...   \n",
       "490573       14:62          2138.0          BL  BATON ROUGE    LA   70806.0   \n",
       "490574   13:1018 D          2250.0          ST  BATON ROUGE    LA   70802.0   \n",
       "490575  14:62/NRUF          8065.0          BL  BATON ROUGE    LA   70806.0   \n",
       "490576       14:24           917.0          AV  BATON ROUGE    LA   70815.0   \n",
       "490577      11:252          4445.0          AV  BATON ROUGE    LA   70820.0   \n",
       "\n",
       "       DISTRICT ZONE SUBZONE COMPLETE DISTRICT  COUNCIL DISTRICT  \\\n",
       "40            1    B       2               1B2               7.0   \n",
       "67            2    A       1               2A1              10.0   \n",
       "81            4    D       1               4D1               5.0   \n",
       "116           2    B       2               2B2              10.0   \n",
       "137           4    A       1               4A1               2.0   \n",
       "...         ...  ...     ...               ...               ...   \n",
       "490573        1    D       2               1D2               6.0   \n",
       "490574        2    A       3               2A3              10.0   \n",
       "490575        1    D       2               1D2               6.0   \n",
       "490576        3    E       3               3E3               4.0   \n",
       "490577        2    C       3               2C3              12.0   \n",
       "\n",
       "       CRIME PREVENTION DISTRICT  \\\n",
       "40                          NONE   \n",
       "67                          NONE   \n",
       "81                          NONE   \n",
       "116                         NONE   \n",
       "137                         NONE   \n",
       "...                          ...   \n",
       "490573                      NONE   \n",
       "490574                      NONE   \n",
       "490575                      NONE   \n",
       "490576                      NONE   \n",
       "490577                      NONE   \n",
       "\n",
       "                                              GEOLOCATION  \n",
       "40               1545 N ACADIAN TH\\nBATON ROUGE, LA 70805  \n",
       "67                       100 EAST I10 HW\\nBATON ROUGE, LA  \n",
       "81                 8280 CYPRESS RD\\nBATON ROUGE, LA 70811  \n",
       "116                800 EAST I10 HW\\nBATON ROUGE, LA 70808  \n",
       "137                        9700 MILLS AV\\nBATON ROUGE, LA  \n",
       "...                                                   ...  \n",
       "490573  2138 WOODDALE BL\\nBATON ROUGE, LA 70806\\n(30.4...  \n",
       "490574  2250 FLORIDA ST\\nBATON ROUGE, LA\\n(30.450016, ...  \n",
       "490575  8065 FLORIDA BL\\nBATON ROUGE, LA 70806\\n(30.45...  \n",
       "490576  917 BRINWOOD AV\\nBATON ROUGE, LA\\n(30.450088, ...  \n",
       "490577  4445 ALVIN DARK AV\\nBATON ROUGE, LA\\n(30.39448...  \n",
       "\n",
       "[442300 rows x 17 columns]"
      ]
     },
     "execution_count": 145,
     "metadata": {},
     "output_type": "execute_result"
    }
   ],
   "source": [
    "crime"
   ]
  },
  {
   "cell_type": "code",
   "execution_count": 146,
   "id": "a722d1ec",
   "metadata": {
    "scrolled": false
   },
   "outputs": [
    {
     "data": {
      "text/plain": [
       "OFFENSE DATE                 0\n",
       "OFFENSE TIME                 0\n",
       "CRIME                        0\n",
       "COMMITTED                    0\n",
       "OFFENSE                      0\n",
       "ADDRESS NUMBER               0\n",
       "STREET TYPE                  0\n",
       "CITY                         0\n",
       "STATE                        0\n",
       "ZIP CODE                     0\n",
       "DISTRICT                     0\n",
       "ZONE                         0\n",
       "SUBZONE                      0\n",
       "COMPLETE DISTRICT            0\n",
       "COUNCIL DISTRICT             0\n",
       "CRIME PREVENTION DISTRICT    0\n",
       "GEOLOCATION                  0\n",
       "dtype: int64"
      ]
     },
     "execution_count": 146,
     "metadata": {},
     "output_type": "execute_result"
    }
   ],
   "source": [
    "crime.isnull().sum()"
   ]
  },
  {
   "cell_type": "code",
   "execution_count": 151,
   "id": "d4e75f0f",
   "metadata": {},
   "outputs": [],
   "source": [
    "#Analyzing the crime district wise."
   ]
  },
  {
   "cell_type": "code",
   "execution_count": 152,
   "id": "37da4123",
   "metadata": {},
   "outputs": [],
   "source": [
    "#First we need to replace the district column from numbers to theri respective district name\n",
    "crime.DISTRICT.replace(['0','1','2','3','4','5'], ['District 0','District 1','District 2','District 3','District 4','District 5'], inplace=True)"
   ]
  },
  {
   "cell_type": "code",
   "execution_count": 153,
   "id": "7aae65b9",
   "metadata": {},
   "outputs": [
    {
     "data": {
      "text/html": [
       "<div>\n",
       "<style scoped>\n",
       "    .dataframe tbody tr th:only-of-type {\n",
       "        vertical-align: middle;\n",
       "    }\n",
       "\n",
       "    .dataframe tbody tr th {\n",
       "        vertical-align: top;\n",
       "    }\n",
       "\n",
       "    .dataframe thead th {\n",
       "        text-align: right;\n",
       "    }\n",
       "</style>\n",
       "<table border=\"1\" class=\"dataframe\">\n",
       "  <thead>\n",
       "    <tr style=\"text-align: right;\">\n",
       "      <th></th>\n",
       "      <th>OFFENSE DATE</th>\n",
       "      <th>OFFENSE TIME</th>\n",
       "      <th>CRIME</th>\n",
       "      <th>COMMITTED</th>\n",
       "      <th>OFFENSE</th>\n",
       "      <th>ADDRESS NUMBER</th>\n",
       "      <th>STREET TYPE</th>\n",
       "      <th>CITY</th>\n",
       "      <th>STATE</th>\n",
       "      <th>ZIP CODE</th>\n",
       "      <th>DISTRICT</th>\n",
       "      <th>ZONE</th>\n",
       "      <th>SUBZONE</th>\n",
       "      <th>COMPLETE DISTRICT</th>\n",
       "      <th>COUNCIL DISTRICT</th>\n",
       "      <th>CRIME PREVENTION DISTRICT</th>\n",
       "      <th>GEOLOCATION</th>\n",
       "    </tr>\n",
       "  </thead>\n",
       "  <tbody>\n",
       "    <tr>\n",
       "      <th>0</th>\n",
       "      <td>11/22/2019</td>\n",
       "      <td>2108</td>\n",
       "      <td>BATTERY</td>\n",
       "      <td>COMMITTED</td>\n",
       "      <td>14:35</td>\n",
       "      <td>1545.0</td>\n",
       "      <td>TH</td>\n",
       "      <td>BATON ROUGE</td>\n",
       "      <td>LA</td>\n",
       "      <td>70808.0</td>\n",
       "      <td>District 1</td>\n",
       "      <td>B</td>\n",
       "      <td>2</td>\n",
       "      <td>1B2</td>\n",
       "      <td>7.0</td>\n",
       "      <td>NONE</td>\n",
       "      <td>1545 N ACADIAN TH\\nBATON ROUGE, LA 70805</td>\n",
       "    </tr>\n",
       "    <tr>\n",
       "      <th>1</th>\n",
       "      <td>06/28/2012</td>\n",
       "      <td>1721</td>\n",
       "      <td>OTHER</td>\n",
       "      <td>COMMITTED</td>\n",
       "      <td>11:131A</td>\n",
       "      <td>100.0</td>\n",
       "      <td>HW</td>\n",
       "      <td>BATON ROUGE</td>\n",
       "      <td>LA</td>\n",
       "      <td>70802.0</td>\n",
       "      <td>District 2</td>\n",
       "      <td>A</td>\n",
       "      <td>1</td>\n",
       "      <td>2A1</td>\n",
       "      <td>10.0</td>\n",
       "      <td>NONE</td>\n",
       "      <td>100 EAST I10 HW\\nBATON ROUGE, LA</td>\n",
       "    </tr>\n",
       "    <tr>\n",
       "      <th>2</th>\n",
       "      <td>01/14/2020</td>\n",
       "      <td>1907</td>\n",
       "      <td>THEFT</td>\n",
       "      <td>COMMITTED</td>\n",
       "      <td>13:67</td>\n",
       "      <td>8280.0</td>\n",
       "      <td>RD</td>\n",
       "      <td>BATON ROUGE</td>\n",
       "      <td>LA</td>\n",
       "      <td>70811.0</td>\n",
       "      <td>District 4</td>\n",
       "      <td>D</td>\n",
       "      <td>1</td>\n",
       "      <td>4D1</td>\n",
       "      <td>5.0</td>\n",
       "      <td>NONE</td>\n",
       "      <td>8280 CYPRESS RD\\nBATON ROUGE, LA 70811</td>\n",
       "    </tr>\n",
       "    <tr>\n",
       "      <th>3</th>\n",
       "      <td>11/11/2012</td>\n",
       "      <td>0130</td>\n",
       "      <td>OTHER</td>\n",
       "      <td>COMMITTED</td>\n",
       "      <td>11:140</td>\n",
       "      <td>800.0</td>\n",
       "      <td>HW</td>\n",
       "      <td>BATON ROUGE</td>\n",
       "      <td>LA</td>\n",
       "      <td>70802.0</td>\n",
       "      <td>District 2</td>\n",
       "      <td>B</td>\n",
       "      <td>2</td>\n",
       "      <td>2B2</td>\n",
       "      <td>10.0</td>\n",
       "      <td>NONE</td>\n",
       "      <td>800 EAST I10 HW\\nBATON ROUGE, LA 70808</td>\n",
       "    </tr>\n",
       "    <tr>\n",
       "      <th>4</th>\n",
       "      <td>04/05/2020</td>\n",
       "      <td>0150</td>\n",
       "      <td>FIREARM</td>\n",
       "      <td>COMMITTED</td>\n",
       "      <td>14:94</td>\n",
       "      <td>9700.0</td>\n",
       "      <td>AV</td>\n",
       "      <td>BATON ROUGE</td>\n",
       "      <td>LA</td>\n",
       "      <td>70807.0</td>\n",
       "      <td>District 4</td>\n",
       "      <td>A</td>\n",
       "      <td>1</td>\n",
       "      <td>4A1</td>\n",
       "      <td>2.0</td>\n",
       "      <td>NONE</td>\n",
       "      <td>9700 MILLS AV\\nBATON ROUGE, LA</td>\n",
       "    </tr>\n",
       "    <tr>\n",
       "      <th>...</th>\n",
       "      <td>...</td>\n",
       "      <td>...</td>\n",
       "      <td>...</td>\n",
       "      <td>...</td>\n",
       "      <td>...</td>\n",
       "      <td>...</td>\n",
       "      <td>...</td>\n",
       "      <td>...</td>\n",
       "      <td>...</td>\n",
       "      <td>...</td>\n",
       "      <td>...</td>\n",
       "      <td>...</td>\n",
       "      <td>...</td>\n",
       "      <td>...</td>\n",
       "      <td>...</td>\n",
       "      <td>...</td>\n",
       "      <td>...</td>\n",
       "    </tr>\n",
       "    <tr>\n",
       "      <th>442295</th>\n",
       "      <td>08/24/2019</td>\n",
       "      <td>2130</td>\n",
       "      <td>NON-RESIDENTIAL BURGLARY</td>\n",
       "      <td>COMMITTED</td>\n",
       "      <td>14:62</td>\n",
       "      <td>2138.0</td>\n",
       "      <td>BL</td>\n",
       "      <td>BATON ROUGE</td>\n",
       "      <td>LA</td>\n",
       "      <td>70806.0</td>\n",
       "      <td>District 1</td>\n",
       "      <td>D</td>\n",
       "      <td>2</td>\n",
       "      <td>1D2</td>\n",
       "      <td>6.0</td>\n",
       "      <td>NONE</td>\n",
       "      <td>2138 WOODDALE BL\\nBATON ROUGE, LA 70806\\n(30.4...</td>\n",
       "    </tr>\n",
       "    <tr>\n",
       "      <th>442296</th>\n",
       "      <td>01/31/2016</td>\n",
       "      <td>1806</td>\n",
       "      <td>OTHER</td>\n",
       "      <td>COMMITTED</td>\n",
       "      <td>13:1018 D</td>\n",
       "      <td>2250.0</td>\n",
       "      <td>ST</td>\n",
       "      <td>BATON ROUGE</td>\n",
       "      <td>LA</td>\n",
       "      <td>70802.0</td>\n",
       "      <td>District 2</td>\n",
       "      <td>A</td>\n",
       "      <td>3</td>\n",
       "      <td>2A3</td>\n",
       "      <td>10.0</td>\n",
       "      <td>NONE</td>\n",
       "      <td>2250 FLORIDA ST\\nBATON ROUGE, LA\\n(30.450016, ...</td>\n",
       "    </tr>\n",
       "    <tr>\n",
       "      <th>442297</th>\n",
       "      <td>03/25/2020</td>\n",
       "      <td>1227</td>\n",
       "      <td>NON-RESIDENTIAL BURGLARY</td>\n",
       "      <td>COMMITTED</td>\n",
       "      <td>14:62/NRUF</td>\n",
       "      <td>8065.0</td>\n",
       "      <td>BL</td>\n",
       "      <td>BATON ROUGE</td>\n",
       "      <td>LA</td>\n",
       "      <td>70806.0</td>\n",
       "      <td>District 1</td>\n",
       "      <td>D</td>\n",
       "      <td>2</td>\n",
       "      <td>1D2</td>\n",
       "      <td>6.0</td>\n",
       "      <td>NONE</td>\n",
       "      <td>8065 FLORIDA BL\\nBATON ROUGE, LA 70806\\n(30.45...</td>\n",
       "    </tr>\n",
       "    <tr>\n",
       "      <th>442298</th>\n",
       "      <td>10/14/2019</td>\n",
       "      <td>2330</td>\n",
       "      <td>OTHER</td>\n",
       "      <td>COMMITTED</td>\n",
       "      <td>14:24</td>\n",
       "      <td>917.0</td>\n",
       "      <td>AV</td>\n",
       "      <td>BATON ROUGE</td>\n",
       "      <td>LA</td>\n",
       "      <td>70815.0</td>\n",
       "      <td>District 3</td>\n",
       "      <td>E</td>\n",
       "      <td>3</td>\n",
       "      <td>3E3</td>\n",
       "      <td>4.0</td>\n",
       "      <td>NONE</td>\n",
       "      <td>917 BRINWOOD AV\\nBATON ROUGE, LA\\n(30.450088, ...</td>\n",
       "    </tr>\n",
       "    <tr>\n",
       "      <th>442299</th>\n",
       "      <td>06/03/2016</td>\n",
       "      <td>201</td>\n",
       "      <td>OTHER</td>\n",
       "      <td>COMMITTED</td>\n",
       "      <td>11:252</td>\n",
       "      <td>4445.0</td>\n",
       "      <td>AV</td>\n",
       "      <td>BATON ROUGE</td>\n",
       "      <td>LA</td>\n",
       "      <td>70820.0</td>\n",
       "      <td>District 2</td>\n",
       "      <td>C</td>\n",
       "      <td>3</td>\n",
       "      <td>2C3</td>\n",
       "      <td>12.0</td>\n",
       "      <td>NONE</td>\n",
       "      <td>4445 ALVIN DARK AV\\nBATON ROUGE, LA\\n(30.39448...</td>\n",
       "    </tr>\n",
       "  </tbody>\n",
       "</table>\n",
       "<p>442300 rows × 17 columns</p>\n",
       "</div>"
      ],
      "text/plain": [
       "       OFFENSE DATE OFFENSE TIME                     CRIME  COMMITTED  \\\n",
       "0        11/22/2019         2108                   BATTERY  COMMITTED   \n",
       "1        06/28/2012         1721                     OTHER  COMMITTED   \n",
       "2        01/14/2020         1907                     THEFT  COMMITTED   \n",
       "3        11/11/2012         0130                     OTHER  COMMITTED   \n",
       "4        04/05/2020         0150                   FIREARM  COMMITTED   \n",
       "...             ...          ...                       ...        ...   \n",
       "442295   08/24/2019         2130  NON-RESIDENTIAL BURGLARY  COMMITTED   \n",
       "442296   01/31/2016         1806                     OTHER  COMMITTED   \n",
       "442297   03/25/2020         1227  NON-RESIDENTIAL BURGLARY  COMMITTED   \n",
       "442298   10/14/2019         2330                     OTHER  COMMITTED   \n",
       "442299   06/03/2016          201                     OTHER  COMMITTED   \n",
       "\n",
       "           OFFENSE  ADDRESS NUMBER STREET TYPE         CITY STATE  ZIP CODE  \\\n",
       "0            14:35          1545.0          TH  BATON ROUGE    LA   70808.0   \n",
       "1          11:131A           100.0          HW  BATON ROUGE    LA   70802.0   \n",
       "2            13:67          8280.0          RD  BATON ROUGE    LA   70811.0   \n",
       "3           11:140           800.0          HW  BATON ROUGE    LA   70802.0   \n",
       "4            14:94          9700.0          AV  BATON ROUGE    LA   70807.0   \n",
       "...            ...             ...         ...          ...   ...       ...   \n",
       "442295       14:62          2138.0          BL  BATON ROUGE    LA   70806.0   \n",
       "442296   13:1018 D          2250.0          ST  BATON ROUGE    LA   70802.0   \n",
       "442297  14:62/NRUF          8065.0          BL  BATON ROUGE    LA   70806.0   \n",
       "442298       14:24           917.0          AV  BATON ROUGE    LA   70815.0   \n",
       "442299      11:252          4445.0          AV  BATON ROUGE    LA   70820.0   \n",
       "\n",
       "          DISTRICT ZONE SUBZONE COMPLETE DISTRICT  COUNCIL DISTRICT  \\\n",
       "0       District 1    B       2               1B2               7.0   \n",
       "1       District 2    A       1               2A1              10.0   \n",
       "2       District 4    D       1               4D1               5.0   \n",
       "3       District 2    B       2               2B2              10.0   \n",
       "4       District 4    A       1               4A1               2.0   \n",
       "...            ...  ...     ...               ...               ...   \n",
       "442295  District 1    D       2               1D2               6.0   \n",
       "442296  District 2    A       3               2A3              10.0   \n",
       "442297  District 1    D       2               1D2               6.0   \n",
       "442298  District 3    E       3               3E3               4.0   \n",
       "442299  District 2    C       3               2C3              12.0   \n",
       "\n",
       "       CRIME PREVENTION DISTRICT  \\\n",
       "0                           NONE   \n",
       "1                           NONE   \n",
       "2                           NONE   \n",
       "3                           NONE   \n",
       "4                           NONE   \n",
       "...                          ...   \n",
       "442295                      NONE   \n",
       "442296                      NONE   \n",
       "442297                      NONE   \n",
       "442298                      NONE   \n",
       "442299                      NONE   \n",
       "\n",
       "                                              GEOLOCATION  \n",
       "0                1545 N ACADIAN TH\\nBATON ROUGE, LA 70805  \n",
       "1                        100 EAST I10 HW\\nBATON ROUGE, LA  \n",
       "2                  8280 CYPRESS RD\\nBATON ROUGE, LA 70811  \n",
       "3                  800 EAST I10 HW\\nBATON ROUGE, LA 70808  \n",
       "4                          9700 MILLS AV\\nBATON ROUGE, LA  \n",
       "...                                                   ...  \n",
       "442295  2138 WOODDALE BL\\nBATON ROUGE, LA 70806\\n(30.4...  \n",
       "442296  2250 FLORIDA ST\\nBATON ROUGE, LA\\n(30.450016, ...  \n",
       "442297  8065 FLORIDA BL\\nBATON ROUGE, LA 70806\\n(30.45...  \n",
       "442298  917 BRINWOOD AV\\nBATON ROUGE, LA\\n(30.450088, ...  \n",
       "442299  4445 ALVIN DARK AV\\nBATON ROUGE, LA\\n(30.39448...  \n",
       "\n",
       "[442300 rows x 17 columns]"
      ]
     },
     "execution_count": 153,
     "metadata": {},
     "output_type": "execute_result"
    }
   ],
   "source": [
    "crime.reset_index(drop=True)"
   ]
  },
  {
   "cell_type": "code",
   "execution_count": 154,
   "id": "c32bc77f",
   "metadata": {},
   "outputs": [
    {
     "data": {
      "text/html": [
       "<div>\n",
       "<style scoped>\n",
       "    .dataframe tbody tr th:only-of-type {\n",
       "        vertical-align: middle;\n",
       "    }\n",
       "\n",
       "    .dataframe tbody tr th {\n",
       "        vertical-align: top;\n",
       "    }\n",
       "\n",
       "    .dataframe thead th {\n",
       "        text-align: right;\n",
       "    }\n",
       "</style>\n",
       "<table border=\"1\" class=\"dataframe\">\n",
       "  <thead>\n",
       "    <tr style=\"text-align: right;\">\n",
       "      <th></th>\n",
       "      <th>OFFENSE DATE</th>\n",
       "      <th>OFFENSE TIME</th>\n",
       "      <th>CRIME</th>\n",
       "      <th>COMMITTED</th>\n",
       "      <th>OFFENSE</th>\n",
       "      <th>ADDRESS NUMBER</th>\n",
       "      <th>STREET TYPE</th>\n",
       "      <th>CITY</th>\n",
       "      <th>STATE</th>\n",
       "      <th>ZIP CODE</th>\n",
       "      <th>DISTRICT</th>\n",
       "      <th>ZONE</th>\n",
       "      <th>SUBZONE</th>\n",
       "      <th>COMPLETE DISTRICT</th>\n",
       "      <th>COUNCIL DISTRICT</th>\n",
       "      <th>CRIME PREVENTION DISTRICT</th>\n",
       "      <th>GEOLOCATION</th>\n",
       "    </tr>\n",
       "  </thead>\n",
       "  <tbody>\n",
       "    <tr>\n",
       "      <th>40</th>\n",
       "      <td>11/22/2019</td>\n",
       "      <td>2108</td>\n",
       "      <td>BATTERY</td>\n",
       "      <td>COMMITTED</td>\n",
       "      <td>14:35</td>\n",
       "      <td>1545.0</td>\n",
       "      <td>TH</td>\n",
       "      <td>BATON ROUGE</td>\n",
       "      <td>LA</td>\n",
       "      <td>70808.0</td>\n",
       "      <td>District 1</td>\n",
       "      <td>B</td>\n",
       "      <td>2</td>\n",
       "      <td>1B2</td>\n",
       "      <td>7.0</td>\n",
       "      <td>NONE</td>\n",
       "      <td>1545 N ACADIAN TH\\nBATON ROUGE, LA 70805</td>\n",
       "    </tr>\n",
       "    <tr>\n",
       "      <th>67</th>\n",
       "      <td>06/28/2012</td>\n",
       "      <td>1721</td>\n",
       "      <td>OTHER</td>\n",
       "      <td>COMMITTED</td>\n",
       "      <td>11:131A</td>\n",
       "      <td>100.0</td>\n",
       "      <td>HW</td>\n",
       "      <td>BATON ROUGE</td>\n",
       "      <td>LA</td>\n",
       "      <td>70802.0</td>\n",
       "      <td>District 2</td>\n",
       "      <td>A</td>\n",
       "      <td>1</td>\n",
       "      <td>2A1</td>\n",
       "      <td>10.0</td>\n",
       "      <td>NONE</td>\n",
       "      <td>100 EAST I10 HW\\nBATON ROUGE, LA</td>\n",
       "    </tr>\n",
       "    <tr>\n",
       "      <th>81</th>\n",
       "      <td>01/14/2020</td>\n",
       "      <td>1907</td>\n",
       "      <td>THEFT</td>\n",
       "      <td>COMMITTED</td>\n",
       "      <td>13:67</td>\n",
       "      <td>8280.0</td>\n",
       "      <td>RD</td>\n",
       "      <td>BATON ROUGE</td>\n",
       "      <td>LA</td>\n",
       "      <td>70811.0</td>\n",
       "      <td>District 4</td>\n",
       "      <td>D</td>\n",
       "      <td>1</td>\n",
       "      <td>4D1</td>\n",
       "      <td>5.0</td>\n",
       "      <td>NONE</td>\n",
       "      <td>8280 CYPRESS RD\\nBATON ROUGE, LA 70811</td>\n",
       "    </tr>\n",
       "    <tr>\n",
       "      <th>116</th>\n",
       "      <td>11/11/2012</td>\n",
       "      <td>0130</td>\n",
       "      <td>OTHER</td>\n",
       "      <td>COMMITTED</td>\n",
       "      <td>11:140</td>\n",
       "      <td>800.0</td>\n",
       "      <td>HW</td>\n",
       "      <td>BATON ROUGE</td>\n",
       "      <td>LA</td>\n",
       "      <td>70802.0</td>\n",
       "      <td>District 2</td>\n",
       "      <td>B</td>\n",
       "      <td>2</td>\n",
       "      <td>2B2</td>\n",
       "      <td>10.0</td>\n",
       "      <td>NONE</td>\n",
       "      <td>800 EAST I10 HW\\nBATON ROUGE, LA 70808</td>\n",
       "    </tr>\n",
       "    <tr>\n",
       "      <th>137</th>\n",
       "      <td>04/05/2020</td>\n",
       "      <td>0150</td>\n",
       "      <td>FIREARM</td>\n",
       "      <td>COMMITTED</td>\n",
       "      <td>14:94</td>\n",
       "      <td>9700.0</td>\n",
       "      <td>AV</td>\n",
       "      <td>BATON ROUGE</td>\n",
       "      <td>LA</td>\n",
       "      <td>70807.0</td>\n",
       "      <td>District 4</td>\n",
       "      <td>A</td>\n",
       "      <td>1</td>\n",
       "      <td>4A1</td>\n",
       "      <td>2.0</td>\n",
       "      <td>NONE</td>\n",
       "      <td>9700 MILLS AV\\nBATON ROUGE, LA</td>\n",
       "    </tr>\n",
       "  </tbody>\n",
       "</table>\n",
       "</div>"
      ],
      "text/plain": [
       "    OFFENSE DATE OFFENSE TIME    CRIME  COMMITTED  OFFENSE  ADDRESS NUMBER  \\\n",
       "40    11/22/2019         2108  BATTERY  COMMITTED    14:35          1545.0   \n",
       "67    06/28/2012         1721    OTHER  COMMITTED  11:131A           100.0   \n",
       "81    01/14/2020         1907    THEFT  COMMITTED    13:67          8280.0   \n",
       "116   11/11/2012         0130    OTHER  COMMITTED   11:140           800.0   \n",
       "137   04/05/2020         0150  FIREARM  COMMITTED    14:94          9700.0   \n",
       "\n",
       "    STREET TYPE         CITY STATE  ZIP CODE    DISTRICT ZONE SUBZONE  \\\n",
       "40           TH  BATON ROUGE    LA   70808.0  District 1    B       2   \n",
       "67           HW  BATON ROUGE    LA   70802.0  District 2    A       1   \n",
       "81           RD  BATON ROUGE    LA   70811.0  District 4    D       1   \n",
       "116          HW  BATON ROUGE    LA   70802.0  District 2    B       2   \n",
       "137          AV  BATON ROUGE    LA   70807.0  District 4    A       1   \n",
       "\n",
       "    COMPLETE DISTRICT  COUNCIL DISTRICT CRIME PREVENTION DISTRICT  \\\n",
       "40                1B2               7.0                      NONE   \n",
       "67                2A1              10.0                      NONE   \n",
       "81                4D1               5.0                      NONE   \n",
       "116               2B2              10.0                      NONE   \n",
       "137               4A1               2.0                      NONE   \n",
       "\n",
       "                                  GEOLOCATION  \n",
       "40   1545 N ACADIAN TH\\nBATON ROUGE, LA 70805  \n",
       "67           100 EAST I10 HW\\nBATON ROUGE, LA  \n",
       "81     8280 CYPRESS RD\\nBATON ROUGE, LA 70811  \n",
       "116    800 EAST I10 HW\\nBATON ROUGE, LA 70808  \n",
       "137            9700 MILLS AV\\nBATON ROUGE, LA  "
      ]
     },
     "execution_count": 154,
     "metadata": {},
     "output_type": "execute_result"
    }
   ],
   "source": [
    "crime.head()"
   ]
  },
  {
   "cell_type": "code",
   "execution_count": 156,
   "id": "0abecc48",
   "metadata": {},
   "outputs": [],
   "source": [
    "crime.to_excel('crime 1.xlsx')"
   ]
  },
  {
   "cell_type": "code",
   "execution_count": 157,
   "id": "79979da9",
   "metadata": {},
   "outputs": [],
   "source": [
    "crime.to_excel('crimefinal.xlsx')"
   ]
  },
  {
   "cell_type": "code",
   "execution_count": 158,
   "id": "533e3b33",
   "metadata": {},
   "outputs": [],
   "source": [
    "crime.to_excel('crime1.xlsx')"
   ]
  },
  {
   "cell_type": "code",
   "execution_count": null,
   "id": "c8f7c628",
   "metadata": {},
   "outputs": [],
   "source": []
  }
 ],
 "metadata": {
  "kernelspec": {
   "display_name": "Python 3 (ipykernel)",
   "language": "python",
   "name": "python3"
  },
  "language_info": {
   "codemirror_mode": {
    "name": "ipython",
    "version": 3
   },
   "file_extension": ".py",
   "mimetype": "text/x-python",
   "name": "python",
   "nbconvert_exporter": "python",
   "pygments_lexer": "ipython3",
   "version": "3.9.7"
  }
 },
 "nbformat": 4,
 "nbformat_minor": 5
}
